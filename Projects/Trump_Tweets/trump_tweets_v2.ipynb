{
 "cells": [
  {
   "cell_type": "code",
   "execution_count": 68,
   "metadata": {
    "collapsed": true
   },
   "outputs": [],
   "source": [
    "import pandas as pd\n",
    "import numpy as np\n",
    "import re\n",
    "import random\n",
    "%matplotlib inline"
   ]
  },
  {
   "cell_type": "code",
   "execution_count": 2,
   "metadata": {
    "collapsed": false
   },
   "outputs": [
    {
     "name": "stderr",
     "output_type": "stream",
     "text": [
      "Using TensorFlow backend.\n"
     ]
    },
    {
     "ename": "ImportError",
     "evalue": "No module named tensorflow",
     "output_type": "error",
     "traceback": [
      "\u001b[0;31m---------------------------------------------------------------------------\u001b[0m",
      "\u001b[0;31mImportError\u001b[0m                               Traceback (most recent call last)",
      "\u001b[0;32m<ipython-input-2-5971cfeb28b5>\u001b[0m in \u001b[0;36m<module>\u001b[0;34m()\u001b[0m\n\u001b[1;32m      1\u001b[0m \u001b[0;32mfrom\u001b[0m \u001b[0m__future__\u001b[0m \u001b[0;32mimport\u001b[0m \u001b[0mprint_function\u001b[0m\u001b[0;34m\u001b[0m\u001b[0m\n\u001b[0;32m----> 2\u001b[0;31m \u001b[0;32mfrom\u001b[0m \u001b[0mkeras\u001b[0m\u001b[0;34m.\u001b[0m\u001b[0mmodels\u001b[0m \u001b[0;32mimport\u001b[0m \u001b[0mSequential\u001b[0m\u001b[0;34m\u001b[0m\u001b[0m\n\u001b[0m\u001b[1;32m      3\u001b[0m \u001b[0;32mfrom\u001b[0m \u001b[0mkeras\u001b[0m\u001b[0;34m.\u001b[0m\u001b[0mlayers\u001b[0m \u001b[0;32mimport\u001b[0m \u001b[0mDense\u001b[0m\u001b[0;34m,\u001b[0m \u001b[0mActivation\u001b[0m\u001b[0;34m,\u001b[0m \u001b[0mDropout\u001b[0m\u001b[0;34m\u001b[0m\u001b[0m\n\u001b[1;32m      4\u001b[0m \u001b[0;32mfrom\u001b[0m \u001b[0mkeras\u001b[0m\u001b[0;34m.\u001b[0m\u001b[0mlayers\u001b[0m \u001b[0;32mimport\u001b[0m \u001b[0mLSTM\u001b[0m\u001b[0;34m\u001b[0m\u001b[0m\n\u001b[1;32m      5\u001b[0m \u001b[0;32mfrom\u001b[0m \u001b[0mkeras\u001b[0m\u001b[0;34m.\u001b[0m\u001b[0mcallbacks\u001b[0m \u001b[0;32mimport\u001b[0m \u001b[0mModelCheckpoint\u001b[0m\u001b[0;34m\u001b[0m\u001b[0m\n",
      "\u001b[0;32m/Users/lemakikuchi/anaconda/lib/python2.7/site-packages/Keras-1.1.1-py2.7.egg/keras/__init__.py\u001b[0m in \u001b[0;36m<module>\u001b[0;34m()\u001b[0m\n\u001b[1;32m      1\u001b[0m \u001b[0;32mfrom\u001b[0m \u001b[0m__future__\u001b[0m \u001b[0;32mimport\u001b[0m \u001b[0mabsolute_import\u001b[0m\u001b[0;34m\u001b[0m\u001b[0m\n\u001b[0;32m----> 2\u001b[0;31m \u001b[0;32mfrom\u001b[0m \u001b[0;34m.\u001b[0m \u001b[0;32mimport\u001b[0m \u001b[0mbackend\u001b[0m\u001b[0;34m\u001b[0m\u001b[0m\n\u001b[0m\u001b[1;32m      3\u001b[0m \u001b[0;32mfrom\u001b[0m \u001b[0;34m.\u001b[0m \u001b[0;32mimport\u001b[0m \u001b[0mdatasets\u001b[0m\u001b[0;34m\u001b[0m\u001b[0m\n\u001b[1;32m      4\u001b[0m \u001b[0;32mfrom\u001b[0m \u001b[0;34m.\u001b[0m \u001b[0;32mimport\u001b[0m \u001b[0mengine\u001b[0m\u001b[0;34m\u001b[0m\u001b[0m\n\u001b[1;32m      5\u001b[0m \u001b[0;32mfrom\u001b[0m \u001b[0;34m.\u001b[0m \u001b[0;32mimport\u001b[0m \u001b[0mlayers\u001b[0m\u001b[0;34m\u001b[0m\u001b[0m\n",
      "\u001b[0;32m/Users/lemakikuchi/anaconda/lib/python2.7/site-packages/Keras-1.1.1-py2.7.egg/keras/backend/__init__.py\u001b[0m in \u001b[0;36m<module>\u001b[0;34m()\u001b[0m\n\u001b[1;32m     67\u001b[0m \u001b[0;32melif\u001b[0m \u001b[0m_BACKEND\u001b[0m \u001b[0;34m==\u001b[0m \u001b[0;34m'tensorflow'\u001b[0m\u001b[0;34m:\u001b[0m\u001b[0;34m\u001b[0m\u001b[0m\n\u001b[1;32m     68\u001b[0m     \u001b[0msys\u001b[0m\u001b[0;34m.\u001b[0m\u001b[0mstderr\u001b[0m\u001b[0;34m.\u001b[0m\u001b[0mwrite\u001b[0m\u001b[0;34m(\u001b[0m\u001b[0;34m'Using TensorFlow backend.\\n'\u001b[0m\u001b[0;34m)\u001b[0m\u001b[0;34m\u001b[0m\u001b[0m\n\u001b[0;32m---> 69\u001b[0;31m     \u001b[0;32mfrom\u001b[0m \u001b[0;34m.\u001b[0m\u001b[0mtensorflow_backend\u001b[0m \u001b[0;32mimport\u001b[0m \u001b[0;34m*\u001b[0m\u001b[0;34m\u001b[0m\u001b[0m\n\u001b[0m\u001b[1;32m     70\u001b[0m \u001b[0;32melse\u001b[0m\u001b[0;34m:\u001b[0m\u001b[0;34m\u001b[0m\u001b[0m\n\u001b[1;32m     71\u001b[0m     \u001b[0;32mraise\u001b[0m \u001b[0mException\u001b[0m\u001b[0;34m(\u001b[0m\u001b[0;34m'Unknown backend: '\u001b[0m \u001b[0;34m+\u001b[0m \u001b[0mstr\u001b[0m\u001b[0;34m(\u001b[0m\u001b[0m_BACKEND\u001b[0m\u001b[0;34m)\u001b[0m\u001b[0;34m)\u001b[0m\u001b[0;34m\u001b[0m\u001b[0m\n",
      "\u001b[0;32m/Users/lemakikuchi/anaconda/lib/python2.7/site-packages/Keras-1.1.1-py2.7.egg/keras/backend/tensorflow_backend.py\u001b[0m in \u001b[0;36m<module>\u001b[0;34m()\u001b[0m\n\u001b[0;32m----> 1\u001b[0;31m \u001b[0;32mimport\u001b[0m \u001b[0mtensorflow\u001b[0m \u001b[0;32mas\u001b[0m \u001b[0mtf\u001b[0m\u001b[0;34m\u001b[0m\u001b[0m\n\u001b[0m\u001b[1;32m      2\u001b[0m \u001b[0;34m\u001b[0m\u001b[0m\n\u001b[1;32m      3\u001b[0m \u001b[0;32mfrom\u001b[0m \u001b[0mtensorflow\u001b[0m\u001b[0;34m.\u001b[0m\u001b[0mpython\u001b[0m\u001b[0;34m.\u001b[0m\u001b[0mtraining\u001b[0m \u001b[0;32mimport\u001b[0m \u001b[0mmoving_averages\u001b[0m\u001b[0;34m\u001b[0m\u001b[0m\n\u001b[1;32m      4\u001b[0m \u001b[0;32mfrom\u001b[0m \u001b[0mtensorflow\u001b[0m\u001b[0;34m.\u001b[0m\u001b[0mpython\u001b[0m\u001b[0;34m.\u001b[0m\u001b[0mops\u001b[0m \u001b[0;32mimport\u001b[0m \u001b[0mtensor_array_ops\u001b[0m\u001b[0;34m\u001b[0m\u001b[0m\n\u001b[1;32m      5\u001b[0m \u001b[0;32mfrom\u001b[0m \u001b[0mtensorflow\u001b[0m\u001b[0;34m.\u001b[0m\u001b[0mpython\u001b[0m\u001b[0;34m.\u001b[0m\u001b[0mops\u001b[0m \u001b[0;32mimport\u001b[0m \u001b[0mcontrol_flow_ops\u001b[0m\u001b[0;34m\u001b[0m\u001b[0m\n",
      "\u001b[0;31mImportError\u001b[0m: No module named tensorflow"
     ]
    }
   ],
   "source": [
    "from __future__ import print_function\n",
    "from keras.models import Sequential\n",
    "from keras.layers import Dense, Activation, Dropout\n",
    "from keras.layers import LSTM\n",
    "from keras.callbacks import ModelCheckpoint\n",
    "from keras.utils import np_utils\n",
    "from keras.optimizers import RMSprop\n",
    "#from keras.utils.data_utils import get_file\n",
    "import numpy\n",
    "import random\n",
    "import sys"
   ]
  },
  {
   "cell_type": "code",
   "execution_count": null,
   "metadata": {
    "collapsed": false
   },
   "outputs": [],
   "source": [
    "#df16 = pd.read_json('http://www.trumptwitterarchive.com/data/2016.json')\n",
    "#df15 = pd.read_json('http://www.trumptwitterarchive.com/data/2015.json')\n",
    "#df14 = pd.read_json('http://www.trumptwitterarchive.com/data/2014.json')\n",
    "#df13 = pd.read_json('http://www.trumptwitterarchive.com/data/2013.json')\n",
    "#df12 = pd.read_json('http://www.trumptwitterarchive.com/data/2012.json')\n",
    "#df11 = pd.read_json('http://www.trumptwitterarchive.com/data/2011.json')\n",
    "#df10 = pd.read_json('http://www.trumptwitterarchive.com/data/2010.json')\n",
    "#df09 = pd.read_json('http://www.trumptwitterarchive.com/data/2009.json')"
   ]
  },
  {
   "cell_type": "code",
   "execution_count": null,
   "metadata": {
    "collapsed": false
   },
   "outputs": [],
   "source": [
    "#df = pd.concat([df16, df15, df14, df13, df12, df11, df10, df09], ignore_index=True)\n",
    "#df = pd.concat([df16, df15, df12], ignore_index=True)"
   ]
  },
  {
   "cell_type": "code",
   "execution_count": null,
   "metadata": {
    "collapsed": true
   },
   "outputs": [],
   "source": [
    "#df.to_json('trump_12_15_16.json')"
   ]
  },
  {
   "cell_type": "code",
   "execution_count": 42,
   "metadata": {
    "collapsed": false
   },
   "outputs": [],
   "source": [
    "df = pd.read_json('trump_12_15_16.json')"
   ]
  },
  {
   "cell_type": "code",
   "execution_count": 43,
   "metadata": {
    "collapsed": false
   },
   "outputs": [],
   "source": [
    "df_t = df['text']"
   ]
  },
  {
   "cell_type": "code",
   "execution_count": 44,
   "metadata": {
    "collapsed": false
   },
   "outputs": [],
   "source": [
    "ttext = []\n",
    "for k, v in df_t.iteritems():\n",
    "    ttext.append(v)"
   ]
  },
  {
   "cell_type": "code",
   "execution_count": 45,
   "metadata": {
    "collapsed": false
   },
   "outputs": [],
   "source": [
    "data = ' '.join(ttext)    "
   ]
  },
  {
   "cell_type": "code",
   "execution_count": 46,
   "metadata": {
    "collapsed": true
   },
   "outputs": [],
   "source": [
    "tweets = re.sub(r\"http\\S+\",'', data.lower(), flags=re.MULTILINE)"
   ]
  },
  {
   "cell_type": "code",
   "execution_count": 47,
   "metadata": {
    "collapsed": false
   },
   "outputs": [],
   "source": [
    "tweets = tweets.encode('ascii', errors='ignore')"
   ]
  },
  {
   "cell_type": "code",
   "execution_count": 48,
   "metadata": {
    "collapsed": true
   },
   "outputs": [],
   "source": [
    "def clean(txt):\n",
    "    txt = txt.replace('\\n',' ').replace('{','').replace('}','').replace('|','').replace('~','').replace('&amp','').replace('\\\"','\\'')\n",
    "    txt = txt.replace('\\\\','').replace('[','').replace(']','').replace('`','').replace('_',' ').replace('/','').replace('+','')\n",
    "    txt = txt.replace('*','').replace('=','').replace('\\r','')\n",
    "    txt = txt.replace('SPEECH 1','').replace('SPEECH 2','').replace('SPEECH 3','').replace('SPEECH 4','').replace('SPEECH 5','')\n",
    "    txt = txt.replace('SPEECH 6','').replace('SPEECH 7','').replace('SPEECH 8','').replace('SPEECH 9','').replace('SPEECH 10','')\n",
    "    txt = txt.replace('    ',' ').replace('   ',' ').replace('  ',' ')\n",
    "    return txt"
   ]
  },
  {
   "cell_type": "code",
   "execution_count": 49,
   "metadata": {
    "collapsed": false
   },
   "outputs": [],
   "source": [
    "tweets = clean(tweets)"
   ]
  },
  {
   "cell_type": "code",
   "execution_count": 50,
   "metadata": {
    "collapsed": false
   },
   "outputs": [],
   "source": [
    "c1 = sorted(list(set(tweets)))"
   ]
  },
  {
   "cell_type": "code",
   "execution_count": 51,
   "metadata": {
    "collapsed": false
   },
   "outputs": [
    {
     "data": {
      "text/plain": [
       "52"
      ]
     },
     "execution_count": 51,
     "metadata": {},
     "output_type": "execute_result"
    }
   ],
   "source": [
    "len(c1)"
   ]
  },
  {
   "cell_type": "code",
   "execution_count": 52,
   "metadata": {
    "collapsed": false
   },
   "outputs": [],
   "source": [
    "#import string\n",
    "#printable = set(string.printable)\n",
    "#t2 = filter(lambda x: x in printable, text)"
   ]
  },
  {
   "cell_type": "code",
   "execution_count": 53,
   "metadata": {
    "collapsed": false
   },
   "outputs": [],
   "source": [
    "with open('speeches.txt', 'r') as myfile:\n",
    "    speech=myfile.read().strip().decode('utf-8')"
   ]
  },
  {
   "cell_type": "code",
   "execution_count": 54,
   "metadata": {
    "collapsed": false
   },
   "outputs": [],
   "source": [
    "speech = speech.encode('ascii', errors='ignore')"
   ]
  },
  {
   "cell_type": "code",
   "execution_count": 55,
   "metadata": {
    "collapsed": true
   },
   "outputs": [],
   "source": [
    "speech_list = speech.split(\"SPEECH \")"
   ]
  },
  {
   "cell_type": "code",
   "execution_count": 56,
   "metadata": {
    "collapsed": false
   },
   "outputs": [],
   "source": [
    "speech_doc = []\n",
    "for i in speech_list:\n",
    "    speech_doc.append(clean(i))"
   ]
  },
  {
   "cell_type": "code",
   "execution_count": 57,
   "metadata": {
    "collapsed": false
   },
   "outputs": [
    {
     "data": {
      "text/plain": [
       "''"
      ]
     },
     "execution_count": 57,
     "metadata": {},
     "output_type": "execute_result"
    }
   ],
   "source": [
    "speech_doc.pop(0)"
   ]
  },
  {
   "cell_type": "code",
   "execution_count": 58,
   "metadata": {
    "collapsed": false
   },
   "outputs": [],
   "source": [
    "doc10 = speech_doc.pop(9) + speech_doc.pop(9)"
   ]
  },
  {
   "cell_type": "code",
   "execution_count": 59,
   "metadata": {
    "collapsed": false
   },
   "outputs": [],
   "source": [
    "speech_doc_1 = []\n",
    "count = 0\n",
    "for d in speech_doc:\n",
    "    count += 1\n",
    "    if count == 10:\n",
    "        speech_doc_1.append(d[2:])\n",
    "    else:\n",
    "        speech_doc_1.append(d[1:])"
   ]
  },
  {
   "cell_type": "code",
   "execution_count": 60,
   "metadata": {
    "collapsed": true
   },
   "outputs": [],
   "source": [
    "speech = clean(speech)"
   ]
  },
  {
   "cell_type": "code",
   "execution_count": 61,
   "metadata": {
    "collapsed": true
   },
   "outputs": [],
   "source": [
    "speech = speech.lower()"
   ]
  },
  {
   "cell_type": "code",
   "execution_count": 62,
   "metadata": {
    "collapsed": false
   },
   "outputs": [],
   "source": [
    "c2 = sorted(list(set(speech)))"
   ]
  },
  {
   "cell_type": "code",
   "execution_count": 63,
   "metadata": {
    "collapsed": false
   },
   "outputs": [
    {
     "data": {
      "text/plain": [
       "51"
      ]
     },
     "execution_count": 63,
     "metadata": {},
     "output_type": "execute_result"
    }
   ],
   "source": [
    "len(c2)"
   ]
  },
  {
   "cell_type": "code",
   "execution_count": 64,
   "metadata": {
    "collapsed": false
   },
   "outputs": [],
   "source": [
    "text = clean(tweets + speech)"
   ]
  },
  {
   "cell_type": "code",
   "execution_count": 28,
   "metadata": {
    "collapsed": true
   },
   "outputs": [],
   "source": [
    "#f = open(\"final.txt\", \"w\");\n",
    "#f.write(text)\n",
    "#f.close()"
   ]
  },
  {
   "cell_type": "code",
   "execution_count": 29,
   "metadata": {
    "collapsed": false
   },
   "outputs": [
    {
     "name": "stdout",
     "output_type": "stream",
     "text": [
      "corpus length: 2237658\n",
      "total chars: 52\n",
      "nb sequences: 2237606\n",
      "Vectorization...\n",
      "Build model...\n"
     ]
    },
    {
     "ename": "NameError",
     "evalue": "name 'Sequential' is not defined",
     "output_type": "error",
     "traceback": [
      "\u001b[0;31m---------------------------------------------------------------------------\u001b[0m",
      "\u001b[0;31mNameError\u001b[0m                                 Traceback (most recent call last)",
      "\u001b[0;32m<ipython-input-29-5d501e0750d7>\u001b[0m in \u001b[0;36m<module>\u001b[0;34m()\u001b[0m\n\u001b[1;32m     27\u001b[0m \u001b[0;31m# build the model: a single LSTM\u001b[0m\u001b[0;34m\u001b[0m\u001b[0;34m\u001b[0m\u001b[0m\n\u001b[1;32m     28\u001b[0m \u001b[0;32mprint\u001b[0m\u001b[0;34m(\u001b[0m\u001b[0;34m'Build model...'\u001b[0m\u001b[0;34m)\u001b[0m\u001b[0;34m\u001b[0m\u001b[0m\n\u001b[0;32m---> 29\u001b[0;31m \u001b[0mmodel\u001b[0m \u001b[0;34m=\u001b[0m \u001b[0mSequential\u001b[0m\u001b[0;34m(\u001b[0m\u001b[0;34m)\u001b[0m\u001b[0;34m\u001b[0m\u001b[0m\n\u001b[0m\u001b[1;32m     30\u001b[0m \u001b[0;31m#model.add(LSTM(128, input_shape=(maxlen, len(chars))))\u001b[0m\u001b[0;34m\u001b[0m\u001b[0;34m\u001b[0m\u001b[0m\n\u001b[1;32m     31\u001b[0m \u001b[0;31m#model.add(Dense(len(chars)))\u001b[0m\u001b[0;34m\u001b[0m\u001b[0;34m\u001b[0m\u001b[0m\n",
      "\u001b[0;31mNameError\u001b[0m: name 'Sequential' is not defined"
     ]
    }
   ],
   "source": [
    "print('corpus length:', len(text))\n",
    "\n",
    "chars = sorted(list(set(text)))\n",
    "print('total chars:', len(chars))\n",
    "char_indices = dict((c, i) for i, c in enumerate(chars))\n",
    "indices_char = dict((i, c) for i, c in enumerate(chars))\n",
    "\n",
    "# cut the text in semi-redundant sequences of maxlen characters\n",
    "maxlen = 52\n",
    "step = 1\n",
    "sentences = []\n",
    "next_chars = []\n",
    "for i in range(0, len(text) - maxlen, step):\n",
    "    sentences.append(text[i: i + maxlen])\n",
    "    next_chars.append(text[i + maxlen])\n",
    "print('nb sequences:', len(sentences))\n",
    "\n",
    "print('Vectorization...')\n",
    "X = np.zeros((len(sentences), maxlen, len(chars)), dtype=np.bool)\n",
    "y = np.zeros((len(sentences), len(chars)), dtype=np.bool)\n",
    "for i, sentence in enumerate(sentences):\n",
    "    for t, char in enumerate(sentence):\n",
    "        X[i, t, char_indices[char]] = 1\n",
    "    y[i, char_indices[next_chars[i]]] = 1\n",
    "\n",
    "\n",
    "# build the model: a single LSTM\n",
    "print('Build model...')\n",
    "model = Sequential()\n",
    "#model.add(LSTM(128, input_shape=(maxlen, len(chars))))\n",
    "#model.add(Dense(len(chars)))\n",
    "#model.add(Activation('softmax'))\n",
    "\n",
    "model.add(LSTM(256, input_shape=(X.shape[1], X.shape[2]), return_sequences=True))\n",
    "model.add(Dropout(0.2))\n",
    "model.add(LSTM(512))\n",
    "model.add(Dropout(0.2))\n",
    "model.add(Dense(y.shape[1], activation='softmax'))\n",
    "\n",
    "model.summary()"
   ]
  },
  {
   "cell_type": "code",
   "execution_count": 185,
   "metadata": {
    "collapsed": true
   },
   "outputs": [],
   "source": [
    "# load the network weights\n",
    "filename = \"weights-improvement-00-1.1278.hdf5\"\n",
    "model.load_weights(filename)\n",
    "#model.compile(loss='categorical_crossentropy', optimizer='adam')\n",
    "\n",
    "#optimizer = RMSprop(lr=0.01)\n",
    "model.compile(loss='categorical_crossentropy', optimizer='adam')\n",
    "\n",
    "filepath=\"weights-improvement-{epoch:02d}-{loss:.4f}.hdf5\"\n",
    "checkpoint = ModelCheckpoint(filepath, monitor='loss', verbose=1, save_best_only=True, mode='min')\n",
    "callbacks_list = [checkpoint]\n",
    "\n",
    "def sample(preds, temperature=1.0):\n",
    "    # helper function to sample an index from a probability array\n",
    "    preds = np.asarray(preds).astype('float64')\n",
    "    preds = np.log(preds) / temperature\n",
    "    exp_preds = np.exp(preds)\n",
    "    preds = exp_preds / np.sum(exp_preds)\n",
    "    probas = np.random.multinomial(1, preds, 1)\n",
    "    return np.argmax(probas)"
   ]
  },
  {
   "cell_type": "code",
   "execution_count": 186,
   "metadata": {
    "collapsed": false
   },
   "outputs": [
    {
     "name": "stdout",
     "output_type": "stream",
     "text": [
      "\n",
      "--------------------------------------------------\n",
      "Iteration 1\n",
      "Epoch 1/1\n",
      "   1536/2237606 [..............................] - ETA: 113557s - loss: 1.2250"
     ]
    },
    {
     "ename": "KeyboardInterrupt",
     "evalue": "",
     "output_type": "error",
     "traceback": [
      "\u001b[0;31m---------------------------------------------------------------------------\u001b[0m",
      "\u001b[0;31mKeyboardInterrupt\u001b[0m                         Traceback (most recent call last)",
      "\u001b[0;32m<ipython-input-186-c9cc957a59bb>\u001b[0m in \u001b[0;36m<module>\u001b[0;34m()\u001b[0m\n\u001b[1;32m      4\u001b[0m     \u001b[0;32mprint\u001b[0m\u001b[0;34m(\u001b[0m\u001b[0;34m'-'\u001b[0m \u001b[0;34m*\u001b[0m \u001b[0;36m50\u001b[0m\u001b[0;34m)\u001b[0m\u001b[0;34m\u001b[0m\u001b[0m\n\u001b[1;32m      5\u001b[0m     \u001b[0;32mprint\u001b[0m\u001b[0;34m(\u001b[0m\u001b[0;34m'Iteration'\u001b[0m\u001b[0;34m,\u001b[0m \u001b[0miteration\u001b[0m\u001b[0;34m)\u001b[0m\u001b[0;34m\u001b[0m\u001b[0m\n\u001b[0;32m----> 6\u001b[0;31m     \u001b[0mmodel\u001b[0m\u001b[0;34m.\u001b[0m\u001b[0mfit\u001b[0m\u001b[0;34m(\u001b[0m\u001b[0mX\u001b[0m\u001b[0;34m,\u001b[0m \u001b[0my\u001b[0m\u001b[0;34m,\u001b[0m \u001b[0mbatch_size\u001b[0m\u001b[0;34m=\u001b[0m\u001b[0;36m128\u001b[0m\u001b[0;34m,\u001b[0m \u001b[0mnb_epoch\u001b[0m\u001b[0;34m=\u001b[0m\u001b[0;36m1\u001b[0m\u001b[0;34m,\u001b[0m \u001b[0mcallbacks\u001b[0m\u001b[0;34m=\u001b[0m\u001b[0mcallbacks_list\u001b[0m\u001b[0;34m)\u001b[0m\u001b[0;34m\u001b[0m\u001b[0m\n\u001b[0m\u001b[1;32m      7\u001b[0m \u001b[0;34m\u001b[0m\u001b[0m\n\u001b[1;32m      8\u001b[0m     \u001b[0mstart_index\u001b[0m \u001b[0;34m=\u001b[0m \u001b[0mrandom\u001b[0m\u001b[0;34m.\u001b[0m\u001b[0mrandint\u001b[0m\u001b[0;34m(\u001b[0m\u001b[0;36m0\u001b[0m\u001b[0;34m,\u001b[0m \u001b[0mlen\u001b[0m\u001b[0;34m(\u001b[0m\u001b[0mtext\u001b[0m\u001b[0;34m)\u001b[0m \u001b[0;34m-\u001b[0m \u001b[0mmaxlen\u001b[0m \u001b[0;34m-\u001b[0m \u001b[0;36m1\u001b[0m\u001b[0;34m)\u001b[0m\u001b[0;34m\u001b[0m\u001b[0m\n",
      "\u001b[0;32m/Users/lemakikuchi/anaconda/envs/tensorflow/lib/python2.7/site-packages/keras/models.pyc\u001b[0m in \u001b[0;36mfit\u001b[0;34m(self, x, y, batch_size, nb_epoch, verbose, callbacks, validation_split, validation_data, shuffle, class_weight, sample_weight, **kwargs)\u001b[0m\n\u001b[1;32m    625\u001b[0m                               \u001b[0mshuffle\u001b[0m\u001b[0;34m=\u001b[0m\u001b[0mshuffle\u001b[0m\u001b[0;34m,\u001b[0m\u001b[0;34m\u001b[0m\u001b[0m\n\u001b[1;32m    626\u001b[0m                               \u001b[0mclass_weight\u001b[0m\u001b[0;34m=\u001b[0m\u001b[0mclass_weight\u001b[0m\u001b[0;34m,\u001b[0m\u001b[0;34m\u001b[0m\u001b[0m\n\u001b[0;32m--> 627\u001b[0;31m                               sample_weight=sample_weight)\n\u001b[0m\u001b[1;32m    628\u001b[0m \u001b[0;34m\u001b[0m\u001b[0m\n\u001b[1;32m    629\u001b[0m     def evaluate(self, x, y, batch_size=32, verbose=1,\n",
      "\u001b[0;32m/Users/lemakikuchi/anaconda/envs/tensorflow/lib/python2.7/site-packages/keras/engine/training.pyc\u001b[0m in \u001b[0;36mfit\u001b[0;34m(self, x, y, batch_size, nb_epoch, verbose, callbacks, validation_split, validation_data, shuffle, class_weight, sample_weight)\u001b[0m\n\u001b[1;32m   1122\u001b[0m                               \u001b[0mverbose\u001b[0m\u001b[0;34m=\u001b[0m\u001b[0mverbose\u001b[0m\u001b[0;34m,\u001b[0m \u001b[0mcallbacks\u001b[0m\u001b[0;34m=\u001b[0m\u001b[0mcallbacks\u001b[0m\u001b[0;34m,\u001b[0m\u001b[0;34m\u001b[0m\u001b[0m\n\u001b[1;32m   1123\u001b[0m                               \u001b[0mval_f\u001b[0m\u001b[0;34m=\u001b[0m\u001b[0mval_f\u001b[0m\u001b[0;34m,\u001b[0m \u001b[0mval_ins\u001b[0m\u001b[0;34m=\u001b[0m\u001b[0mval_ins\u001b[0m\u001b[0;34m,\u001b[0m \u001b[0mshuffle\u001b[0m\u001b[0;34m=\u001b[0m\u001b[0mshuffle\u001b[0m\u001b[0;34m,\u001b[0m\u001b[0;34m\u001b[0m\u001b[0m\n\u001b[0;32m-> 1124\u001b[0;31m                               callback_metrics=callback_metrics)\n\u001b[0m\u001b[1;32m   1125\u001b[0m \u001b[0;34m\u001b[0m\u001b[0m\n\u001b[1;32m   1126\u001b[0m     \u001b[0;32mdef\u001b[0m \u001b[0mevaluate\u001b[0m\u001b[0;34m(\u001b[0m\u001b[0mself\u001b[0m\u001b[0;34m,\u001b[0m \u001b[0mx\u001b[0m\u001b[0;34m,\u001b[0m \u001b[0my\u001b[0m\u001b[0;34m,\u001b[0m \u001b[0mbatch_size\u001b[0m\u001b[0;34m=\u001b[0m\u001b[0;36m32\u001b[0m\u001b[0;34m,\u001b[0m \u001b[0mverbose\u001b[0m\u001b[0;34m=\u001b[0m\u001b[0;36m1\u001b[0m\u001b[0;34m,\u001b[0m \u001b[0msample_weight\u001b[0m\u001b[0;34m=\u001b[0m\u001b[0mNone\u001b[0m\u001b[0;34m)\u001b[0m\u001b[0;34m:\u001b[0m\u001b[0;34m\u001b[0m\u001b[0m\n",
      "\u001b[0;32m/Users/lemakikuchi/anaconda/envs/tensorflow/lib/python2.7/site-packages/keras/engine/training.pyc\u001b[0m in \u001b[0;36m_fit_loop\u001b[0;34m(self, f, ins, out_labels, batch_size, nb_epoch, verbose, callbacks, val_f, val_ins, shuffle, callback_metrics)\u001b[0m\n\u001b[1;32m    840\u001b[0m                 \u001b[0mbatch_logs\u001b[0m\u001b[0;34m[\u001b[0m\u001b[0;34m'size'\u001b[0m\u001b[0;34m]\u001b[0m \u001b[0;34m=\u001b[0m \u001b[0mlen\u001b[0m\u001b[0;34m(\u001b[0m\u001b[0mbatch_ids\u001b[0m\u001b[0;34m)\u001b[0m\u001b[0;34m\u001b[0m\u001b[0m\n\u001b[1;32m    841\u001b[0m                 \u001b[0mcallbacks\u001b[0m\u001b[0;34m.\u001b[0m\u001b[0mon_batch_begin\u001b[0m\u001b[0;34m(\u001b[0m\u001b[0mbatch_index\u001b[0m\u001b[0;34m,\u001b[0m \u001b[0mbatch_logs\u001b[0m\u001b[0;34m)\u001b[0m\u001b[0;34m\u001b[0m\u001b[0m\n\u001b[0;32m--> 842\u001b[0;31m                 \u001b[0mouts\u001b[0m \u001b[0;34m=\u001b[0m \u001b[0mf\u001b[0m\u001b[0;34m(\u001b[0m\u001b[0mins_batch\u001b[0m\u001b[0;34m)\u001b[0m\u001b[0;34m\u001b[0m\u001b[0m\n\u001b[0m\u001b[1;32m    843\u001b[0m                 \u001b[0;32mif\u001b[0m \u001b[0mtype\u001b[0m\u001b[0;34m(\u001b[0m\u001b[0mouts\u001b[0m\u001b[0;34m)\u001b[0m \u001b[0;34m!=\u001b[0m \u001b[0mlist\u001b[0m\u001b[0;34m:\u001b[0m\u001b[0;34m\u001b[0m\u001b[0m\n\u001b[1;32m    844\u001b[0m                     \u001b[0mouts\u001b[0m \u001b[0;34m=\u001b[0m \u001b[0;34m[\u001b[0m\u001b[0mouts\u001b[0m\u001b[0;34m]\u001b[0m\u001b[0;34m\u001b[0m\u001b[0m\n",
      "\u001b[0;32m/Users/lemakikuchi/anaconda/envs/tensorflow/lib/python2.7/site-packages/keras/backend/tensorflow_backend.pyc\u001b[0m in \u001b[0;36m__call__\u001b[0;34m(self, inputs)\u001b[0m\n\u001b[1;32m   1038\u001b[0m             \u001b[0mfeed_dict\u001b[0m\u001b[0;34m[\u001b[0m\u001b[0mtensor\u001b[0m\u001b[0;34m]\u001b[0m \u001b[0;34m=\u001b[0m \u001b[0mvalue\u001b[0m\u001b[0;34m\u001b[0m\u001b[0m\n\u001b[1;32m   1039\u001b[0m         \u001b[0msession\u001b[0m \u001b[0;34m=\u001b[0m \u001b[0mget_session\u001b[0m\u001b[0;34m(\u001b[0m\u001b[0;34m)\u001b[0m\u001b[0;34m\u001b[0m\u001b[0m\n\u001b[0;32m-> 1040\u001b[0;31m         \u001b[0mupdated\u001b[0m \u001b[0;34m=\u001b[0m \u001b[0msession\u001b[0m\u001b[0;34m.\u001b[0m\u001b[0mrun\u001b[0m\u001b[0;34m(\u001b[0m\u001b[0mself\u001b[0m\u001b[0;34m.\u001b[0m\u001b[0moutputs\u001b[0m \u001b[0;34m+\u001b[0m \u001b[0;34m[\u001b[0m\u001b[0mself\u001b[0m\u001b[0;34m.\u001b[0m\u001b[0mupdates_op\u001b[0m\u001b[0;34m]\u001b[0m\u001b[0;34m,\u001b[0m \u001b[0mfeed_dict\u001b[0m\u001b[0;34m=\u001b[0m\u001b[0mfeed_dict\u001b[0m\u001b[0;34m)\u001b[0m\u001b[0;34m\u001b[0m\u001b[0m\n\u001b[0m\u001b[1;32m   1041\u001b[0m         \u001b[0;32mreturn\u001b[0m \u001b[0mupdated\u001b[0m\u001b[0;34m[\u001b[0m\u001b[0;34m:\u001b[0m\u001b[0mlen\u001b[0m\u001b[0;34m(\u001b[0m\u001b[0mself\u001b[0m\u001b[0;34m.\u001b[0m\u001b[0moutputs\u001b[0m\u001b[0;34m)\u001b[0m\u001b[0;34m]\u001b[0m\u001b[0;34m\u001b[0m\u001b[0m\n\u001b[1;32m   1042\u001b[0m \u001b[0;34m\u001b[0m\u001b[0m\n",
      "\u001b[0;32m/Users/lemakikuchi/anaconda/envs/tensorflow/lib/python2.7/site-packages/tensorflow/python/client/session.pyc\u001b[0m in \u001b[0;36mrun\u001b[0;34m(self, fetches, feed_dict, options, run_metadata)\u001b[0m\n\u001b[1;32m    715\u001b[0m     \u001b[0;32mtry\u001b[0m\u001b[0;34m:\u001b[0m\u001b[0;34m\u001b[0m\u001b[0m\n\u001b[1;32m    716\u001b[0m       result = self._run(None, fetches, feed_dict, options_ptr,\n\u001b[0;32m--> 717\u001b[0;31m                          run_metadata_ptr)\n\u001b[0m\u001b[1;32m    718\u001b[0m       \u001b[0;32mif\u001b[0m \u001b[0mrun_metadata\u001b[0m\u001b[0;34m:\u001b[0m\u001b[0;34m\u001b[0m\u001b[0m\n\u001b[1;32m    719\u001b[0m         \u001b[0mproto_data\u001b[0m \u001b[0;34m=\u001b[0m \u001b[0mtf_session\u001b[0m\u001b[0;34m.\u001b[0m\u001b[0mTF_GetBuffer\u001b[0m\u001b[0;34m(\u001b[0m\u001b[0mrun_metadata_ptr\u001b[0m\u001b[0;34m)\u001b[0m\u001b[0;34m\u001b[0m\u001b[0m\n",
      "\u001b[0;32m/Users/lemakikuchi/anaconda/envs/tensorflow/lib/python2.7/site-packages/tensorflow/python/client/session.pyc\u001b[0m in \u001b[0;36m_run\u001b[0;34m(self, handle, fetches, feed_dict, options, run_metadata)\u001b[0m\n\u001b[1;32m    913\u001b[0m     \u001b[0;32mif\u001b[0m \u001b[0mfinal_fetches\u001b[0m \u001b[0;32mor\u001b[0m \u001b[0mfinal_targets\u001b[0m\u001b[0;34m:\u001b[0m\u001b[0;34m\u001b[0m\u001b[0m\n\u001b[1;32m    914\u001b[0m       results = self._do_run(handle, final_targets, final_fetches,\n\u001b[0;32m--> 915\u001b[0;31m                              feed_dict_string, options, run_metadata)\n\u001b[0m\u001b[1;32m    916\u001b[0m     \u001b[0;32melse\u001b[0m\u001b[0;34m:\u001b[0m\u001b[0;34m\u001b[0m\u001b[0m\n\u001b[1;32m    917\u001b[0m       \u001b[0mresults\u001b[0m \u001b[0;34m=\u001b[0m \u001b[0;34m[\u001b[0m\u001b[0;34m]\u001b[0m\u001b[0;34m\u001b[0m\u001b[0m\n",
      "\u001b[0;32m/Users/lemakikuchi/anaconda/envs/tensorflow/lib/python2.7/site-packages/tensorflow/python/client/session.pyc\u001b[0m in \u001b[0;36m_do_run\u001b[0;34m(self, handle, target_list, fetch_list, feed_dict, options, run_metadata)\u001b[0m\n\u001b[1;32m    963\u001b[0m     \u001b[0;32mif\u001b[0m \u001b[0mhandle\u001b[0m \u001b[0;32mis\u001b[0m \u001b[0mNone\u001b[0m\u001b[0;34m:\u001b[0m\u001b[0;34m\u001b[0m\u001b[0m\n\u001b[1;32m    964\u001b[0m       return self._do_call(_run_fn, self._session, feed_dict, fetch_list,\n\u001b[0;32m--> 965\u001b[0;31m                            target_list, options, run_metadata)\n\u001b[0m\u001b[1;32m    966\u001b[0m     \u001b[0;32melse\u001b[0m\u001b[0;34m:\u001b[0m\u001b[0;34m\u001b[0m\u001b[0m\n\u001b[1;32m    967\u001b[0m       return self._do_call(_prun_fn, self._session, handle, feed_dict,\n",
      "\u001b[0;32m/Users/lemakikuchi/anaconda/envs/tensorflow/lib/python2.7/site-packages/tensorflow/python/client/session.pyc\u001b[0m in \u001b[0;36m_do_call\u001b[0;34m(self, fn, *args)\u001b[0m\n\u001b[1;32m    970\u001b[0m   \u001b[0;32mdef\u001b[0m \u001b[0m_do_call\u001b[0m\u001b[0;34m(\u001b[0m\u001b[0mself\u001b[0m\u001b[0;34m,\u001b[0m \u001b[0mfn\u001b[0m\u001b[0;34m,\u001b[0m \u001b[0;34m*\u001b[0m\u001b[0margs\u001b[0m\u001b[0;34m)\u001b[0m\u001b[0;34m:\u001b[0m\u001b[0;34m\u001b[0m\u001b[0m\n\u001b[1;32m    971\u001b[0m     \u001b[0;32mtry\u001b[0m\u001b[0;34m:\u001b[0m\u001b[0;34m\u001b[0m\u001b[0m\n\u001b[0;32m--> 972\u001b[0;31m       \u001b[0;32mreturn\u001b[0m \u001b[0mfn\u001b[0m\u001b[0;34m(\u001b[0m\u001b[0;34m*\u001b[0m\u001b[0margs\u001b[0m\u001b[0;34m)\u001b[0m\u001b[0;34m\u001b[0m\u001b[0m\n\u001b[0m\u001b[1;32m    973\u001b[0m     \u001b[0;32mexcept\u001b[0m \u001b[0merrors\u001b[0m\u001b[0;34m.\u001b[0m\u001b[0mOpError\u001b[0m \u001b[0;32mas\u001b[0m \u001b[0me\u001b[0m\u001b[0;34m:\u001b[0m\u001b[0;34m\u001b[0m\u001b[0m\n\u001b[1;32m    974\u001b[0m       \u001b[0mmessage\u001b[0m \u001b[0;34m=\u001b[0m \u001b[0mcompat\u001b[0m\u001b[0;34m.\u001b[0m\u001b[0mas_text\u001b[0m\u001b[0;34m(\u001b[0m\u001b[0me\u001b[0m\u001b[0;34m.\u001b[0m\u001b[0mmessage\u001b[0m\u001b[0;34m)\u001b[0m\u001b[0;34m\u001b[0m\u001b[0m\n",
      "\u001b[0;32m/Users/lemakikuchi/anaconda/envs/tensorflow/lib/python2.7/site-packages/tensorflow/python/client/session.pyc\u001b[0m in \u001b[0;36m_run_fn\u001b[0;34m(session, feed_dict, fetch_list, target_list, options, run_metadata)\u001b[0m\n\u001b[1;32m    952\u001b[0m         return tf_session.TF_Run(session, options,\n\u001b[1;32m    953\u001b[0m                                  \u001b[0mfeed_dict\u001b[0m\u001b[0;34m,\u001b[0m \u001b[0mfetch_list\u001b[0m\u001b[0;34m,\u001b[0m \u001b[0mtarget_list\u001b[0m\u001b[0;34m,\u001b[0m\u001b[0;34m\u001b[0m\u001b[0m\n\u001b[0;32m--> 954\u001b[0;31m                                  status, run_metadata)\n\u001b[0m\u001b[1;32m    955\u001b[0m \u001b[0;34m\u001b[0m\u001b[0m\n\u001b[1;32m    956\u001b[0m     \u001b[0;32mdef\u001b[0m \u001b[0m_prun_fn\u001b[0m\u001b[0;34m(\u001b[0m\u001b[0msession\u001b[0m\u001b[0;34m,\u001b[0m \u001b[0mhandle\u001b[0m\u001b[0;34m,\u001b[0m \u001b[0mfeed_dict\u001b[0m\u001b[0;34m,\u001b[0m \u001b[0mfetch_list\u001b[0m\u001b[0;34m)\u001b[0m\u001b[0;34m:\u001b[0m\u001b[0;34m\u001b[0m\u001b[0m\n",
      "\u001b[0;31mKeyboardInterrupt\u001b[0m: "
     ]
    }
   ],
   "source": [
    "# train the model, output generated text after each iteration\n",
    "for iteration in range(1, 2):\n",
    "    print()\n",
    "    print('-' * 50)\n",
    "    print('Iteration', iteration)\n",
    "    model.fit(X, y, batch_size=128, nb_epoch=1, callbacks=callbacks_list)\n",
    "\n",
    "    start_index = random.randint(0, len(text) - maxlen - 1)\n",
    "\n",
    "    for diversity in [0.2, 0.5, 1.0, 1.2]:\n",
    "        print()\n",
    "        print('----- diversity:', diversity)\n",
    "\n",
    "        generated = ''\n",
    "        sentence = text[start_index: start_index + maxlen]\n",
    "        generated += sentence\n",
    "        print('----- Generating with seed: \"' + sentence + '\"')\n",
    "        sys.stdout.write(generated)\n",
    "\n",
    "        for i in range(140):\n",
    "            x = np.zeros((1, maxlen, len(chars)))\n",
    "            for t, char in enumerate(sentence):\n",
    "                x[0, t, char_indices[char]] = 1.\n",
    "\n",
    "            preds = model.predict(x, verbose=0)[0]\n",
    "            next_index = sample(preds, diversity)\n",
    "            next_char = indices_char[next_index]\n",
    "\n",
    "            generated += next_char\n",
    "            sentence = sentence[1:] + next_char\n",
    "\n",
    "            sys.stdout.write(next_char)\n",
    "            sys.stdout.flush()\n",
    "        print()"
   ]
  },
  {
   "cell_type": "code",
   "execution_count": 83,
   "metadata": {
    "collapsed": true
   },
   "outputs": [],
   "source": [
    "diversity = 0.1"
   ]
  },
  {
   "cell_type": "code",
   "execution_count": 84,
   "metadata": {
    "collapsed": true
   },
   "outputs": [],
   "source": [
    "start_index = random.randint(0, len(text) - maxlen - 1)\n",
    "generated = ''\n",
    "sentence = text[start_index: start_index + maxlen]\n",
    "generated += sentence"
   ]
  },
  {
   "cell_type": "code",
   "execution_count": 85,
   "metadata": {
    "collapsed": false
   },
   "outputs": [],
   "source": [
    "generated = ''\n",
    "#sentence = \"nce now the norm. nytimes is an example.\"\n",
    "sentence = \"obamacare is a total catastrophe. itdfdf\""
   ]
  },
  {
   "cell_type": "code",
   "execution_count": 86,
   "metadata": {
    "collapsed": false
   },
   "outputs": [
    {
     "name": "stdout",
     "output_type": "stream",
     "text": [
      "----- Generating with seed: \"obamacare is a total catastrophe. itdfdf\"\n",
      "ul the way they want to be the way, its not going to be the way. they want the people want to be the problem that they want to be the money \n"
     ]
    }
   ],
   "source": [
    "print('----- Generating with seed: \"' + sentence + '\"')\n",
    "sys.stdout.write(generated)\n",
    "\n",
    "for i in range(140):\n",
    "    x = np.zeros((1, maxlen, len(chars)))\n",
    "    for t, char in enumerate(sentence):\n",
    "        x[0, t, char_indices[char]] = 1.\n",
    "        \n",
    "    preds = model.predict(x, verbose=0)[0]\n",
    "    next_index = sample(preds, diversity)\n",
    "    next_char = indices_char[next_index]\n",
    "\n",
    "    generated += next_char\n",
    "    sentence = sentence[1:] + next_char\n",
    "\n",
    "    sys.stdout.write(next_char)\n",
    "    sys.stdout.flush()\n",
    "print()"
   ]
  },
  {
   "cell_type": "code",
   "execution_count": 38,
   "metadata": {
    "collapsed": false
   },
   "outputs": [
    {
     "data": {
      "text/plain": [
       "' it was a country. you know, its a mariania in the called people are they they were the real fired, other pass the good the it. i think they'"
      ]
     },
     "execution_count": 38,
     "metadata": {},
     "output_type": "execute_result"
    }
   ],
   "source": [
    "generated"
   ]
  },
  {
   "cell_type": "code",
   "execution_count": 54,
   "metadata": {
    "collapsed": false
   },
   "outputs": [],
   "source": [
    "raw_text = text"
   ]
  },
  {
   "cell_type": "code",
   "execution_count": null,
   "metadata": {
    "collapsed": true
   },
   "outputs": [],
   "source": [
    "# load the network weights\n",
    "#filename = \"weights-improvement-19-1.9435.hdf5\"\n",
    "#model.load_weights(filename)\n",
    "#model.compile(loss='categorical_crossentropy', optimizer='adam')"
   ]
  },
  {
   "cell_type": "code",
   "execution_count": 15,
   "metadata": {
    "collapsed": false
   },
   "outputs": [
    {
     "name": "stdout",
     "output_type": "stream",
     "text": [
      "Total Characters:  1369411\n",
      "Total Vocab:  188\n",
      "Total Patterns:  1369311\n"
     ]
    },
    {
     "ename": "NameError",
     "evalue": "name 'numpy' is not defined",
     "output_type": "error",
     "traceback": [
      "\u001b[0;31m---------------------------------------------------------------------------\u001b[0m",
      "\u001b[0;31mNameError\u001b[0m                                 Traceback (most recent call last)",
      "\u001b[0;32m<ipython-input-15-b3b01bde1185>\u001b[0m in \u001b[0;36m<module>\u001b[0;34m()\u001b[0m\n\u001b[1;32m     19\u001b[0m \u001b[0;32mprint\u001b[0m \u001b[0;34m\"Total Patterns: \"\u001b[0m\u001b[0;34m,\u001b[0m \u001b[0mn_patterns\u001b[0m\u001b[0;34m\u001b[0m\u001b[0m\n\u001b[1;32m     20\u001b[0m \u001b[0;31m# reshape X to be [samples, time steps, features]\u001b[0m\u001b[0;34m\u001b[0m\u001b[0;34m\u001b[0m\u001b[0m\n\u001b[0;32m---> 21\u001b[0;31m \u001b[0mX\u001b[0m \u001b[0;34m=\u001b[0m \u001b[0mnumpy\u001b[0m\u001b[0;34m.\u001b[0m\u001b[0mreshape\u001b[0m\u001b[0;34m(\u001b[0m\u001b[0mdataX\u001b[0m\u001b[0;34m,\u001b[0m \u001b[0;34m(\u001b[0m\u001b[0mn_patterns\u001b[0m\u001b[0;34m,\u001b[0m \u001b[0mseq_length\u001b[0m\u001b[0;34m,\u001b[0m \u001b[0;36m1\u001b[0m\u001b[0;34m)\u001b[0m\u001b[0;34m)\u001b[0m\u001b[0;34m\u001b[0m\u001b[0m\n\u001b[0m\u001b[1;32m     22\u001b[0m \u001b[0;31m# normalize\u001b[0m\u001b[0;34m\u001b[0m\u001b[0;34m\u001b[0m\u001b[0m\n\u001b[1;32m     23\u001b[0m \u001b[0mX\u001b[0m \u001b[0;34m=\u001b[0m \u001b[0mX\u001b[0m \u001b[0;34m/\u001b[0m \u001b[0mfloat\u001b[0m\u001b[0;34m(\u001b[0m\u001b[0mn_vocab\u001b[0m\u001b[0;34m)\u001b[0m\u001b[0;34m\u001b[0m\u001b[0m\n",
      "\u001b[0;31mNameError\u001b[0m: name 'numpy' is not defined"
     ]
    }
   ],
   "source": [
    "# create mapping of unique chars to integers, and a reverse mapping\n",
    "chars = sorted(list(set(raw_text)))\n",
    "char_to_int = dict((c, i) for i, c in enumerate(chars))\n",
    "int_to_char = dict((i, c) for i, c in enumerate(chars))\n",
    "# summarize the loaded data\n",
    "n_chars = len(raw_text)\n",
    "n_vocab = len(chars)\n",
    "print \"Total Characters: \", n_chars\n",
    "print \"Total Vocab: \", n_vocab\n",
    "# prepare the dataset of input to output pairs encoded as integers\n",
    "seq_length = 100\n",
    "dataX = []\n",
    "dataY = []\n",
    "for i in range(0, n_chars - seq_length, 1):\n",
    "\tseq_in = raw_text[i:i + seq_length]\n",
    "\tseq_out = raw_text[i + seq_length]\n",
    "\tdataX.append([char_to_int[char] for char in seq_in])\n",
    "\tdataY.append(char_to_int[seq_out])\n",
    "n_patterns = len(dataX)\n",
    "print \"Total Patterns: \", n_patterns\n",
    "# reshape X to be [samples, time steps, features]\n",
    "X = numpy.reshape(dataX, (n_patterns, seq_length, 1))\n",
    "# normalize\n",
    "X = X / float(n_vocab)\n",
    "# one hot encode the output variable\n",
    "y = np_utils.to_categorical(dataY)\n",
    "# define the LSTM model\n",
    "model = Sequential()\n",
    "model.add(LSTM(256, input_shape=(X.shape[1], X.shape[2]), return_sequences=True))\n",
    "model.add(Dropout(0.2))\n",
    "model.add(LSTM(256))\n",
    "model.add(Dropout(0.2))\n",
    "model.add(Dense(y.shape[1], activation='softmax'))\n",
    "# load the network weights\n",
    "filename = \"weights-improvement-47-1.2219-bigger.hdf5\"\n",
    "model.load_weights(filename)\n",
    "model.compile(loss='categorical_crossentropy', optimizer='adam')\n",
    "# pick a random seed\n",
    "start = numpy.random.randint(0, len(dataX)-1)\n",
    "pattern = dataX[start]\n",
    "print \"Seed:\"\n",
    "print \"\\\"\", ''.join([int_to_char[value] for value in pattern]), \"\\\"\"\n",
    "# generate characters\n",
    "for i in range(1000):\n",
    "\tx = numpy.reshape(pattern, (1, len(pattern), 1))\n",
    "\tx = x / float(n_vocab)\n",
    "\tprediction = model.predict(x, verbose=0)\n",
    "\tindex = numpy.argmax(prediction)\n",
    "\tresult = int_to_char[index]\n",
    "\tseq_in = [int_to_char[value] for value in pattern]\n",
    "\tsys.stdout.write(result)\n",
    "\tpattern.append(index)\n",
    "\tpattern = pattern[1:len(pattern)]\n",
    "print \"\\nDone.\""
   ]
  },
  {
   "cell_type": "code",
   "execution_count": 65,
   "metadata": {
    "collapsed": false
   },
   "outputs": [],
   "source": [
    "tweets_doc = clean(df_t)"
   ]
  },
  {
   "cell_type": "code",
   "execution_count": 66,
   "metadata": {
    "collapsed": false
   },
   "outputs": [],
   "source": [
    "t_list2 = []\n",
    "t_list = []\n",
    "for k, v in df_t.iteritems():\n",
    "    t_list2.append(re.sub(r\"http\\S+\",'', v.lower(), flags=re.MULTILINE))\n",
    "for i in t_list2:\n",
    "    t_list.append(clean(i))"
   ]
  },
  {
   "cell_type": "code",
   "execution_count": 67,
   "metadata": {
    "collapsed": false
   },
   "outputs": [],
   "source": [
    "text_list = t_list + speech_doc_1"
   ]
  },
  {
   "cell_type": "code",
   "execution_count": 33,
   "metadata": {
    "collapsed": false
   },
   "outputs": [
    {
     "name": "stderr",
     "output_type": "stream",
     "text": [
      "/Users/lemakikuchi/anaconda/lib/python2.7/site-packages/gensim-0.13.3-py2.7-macosx-10.6-x86_64.egg/gensim/utils.py:1015: UserWarning: Pattern library is not installed, lemmatization won't be available.\n",
      "  warnings.warn(\"Pattern library is not installed, lemmatization won't be available.\")\n"
     ]
    }
   ],
   "source": [
    "import os\n",
    "from sklearn.feature_extraction.text import CountVectorizer, TfidfVectorizer\n",
    "from gensim import corpora, models, similarities, matutils"
   ]
  },
  {
   "cell_type": "code",
   "execution_count": 45,
   "metadata": {
    "collapsed": true
   },
   "outputs": [],
   "source": [
    "count_vectorizer = CountVectorizer(analyzer='word',ngram_range=(1, 2), stop_words='english',min_df=1)"
   ]
  },
  {
   "cell_type": "code",
   "execution_count": 46,
   "metadata": {
    "collapsed": false
   },
   "outputs": [
    {
     "data": {
      "text/plain": [
       "CountVectorizer(analyzer='word', binary=False, decode_error=u'strict',\n",
       "        dtype=<type 'numpy.int64'>, encoding=u'utf-8', input=u'content',\n",
       "        lowercase=True, max_df=1.0, max_features=None, min_df=1,\n",
       "        ngram_range=(1, 2), preprocessor=None, stop_words='english',\n",
       "        strip_accents=None, token_pattern=u'(?u)\\\\b\\\\w\\\\w+\\\\b',\n",
       "        tokenizer=None, vocabulary=None)"
      ]
     },
     "execution_count": 46,
     "metadata": {},
     "output_type": "execute_result"
    }
   ],
   "source": [
    "count_vectorizer.fit(text_list)"
   ]
  },
  {
   "cell_type": "code",
   "execution_count": 47,
   "metadata": {
    "collapsed": false
   },
   "outputs": [
    {
     "data": {
      "text/plain": [
       "(121721, 12843)"
      ]
     },
     "execution_count": 47,
     "metadata": {},
     "output_type": "execute_result"
    }
   ],
   "source": [
    "doc_vecs = count_vectorizer.transform(text_list).transpose()\n",
    "doc_vecs.shape"
   ]
  },
  {
   "cell_type": "code",
   "execution_count": 48,
   "metadata": {
    "collapsed": false
   },
   "outputs": [
    {
     "data": {
      "text/plain": [
       "[u'00',\n",
       " u'00 00',\n",
       " u'00 10',\n",
       " u'00 15',\n",
       " u'00 30',\n",
       " u'00 abc',\n",
       " u'00 abc2020',\n",
       " u'00 afternoon',\n",
       " u'00 american',\n",
       " u'00 best',\n",
       " u'00 big',\n",
       " u'00 capitol',\n",
       " u'00 celebapprentice',\n",
       " u'00 celebrity',\n",
       " u'00 clock',\n",
       " u'00 cnn',\n",
       " u'00 depending',\n",
       " u'00 discuss',\n",
       " u'00 eastern',\n",
       " u'00 enjoy',\n",
       " u'00 episodes',\n",
       " u'00 figure',\n",
       " u'00 fort',\n",
       " u'00 fox',\n",
       " u'00 foxandfriends',\n",
       " u'00 foxnews',\n",
       " u'00 great',\n",
       " u'00 hottest',\n",
       " u'00 im',\n",
       " u'00 incredible',\n",
       " u'00 interviewed',\n",
       " u'00 joan',\n",
       " u'00 likewise',\n",
       " u'00 live',\n",
       " u'00 make',\n",
       " u'00 mike',\n",
       " u'00 minutes',\n",
       " u'00 mon',\n",
       " u'00 mondays',\n",
       " u'00 morning',\n",
       " u'00 movement',\n",
       " u'00 new',\n",
       " u'00 oan',\n",
       " u'00 pm',\n",
       " u'00 politicians',\n",
       " u'00 ready',\n",
       " u'00 really',\n",
       " u'00 remember',\n",
       " u'00 seanhannity',\n",
       " u'00 special',\n",
       " u'00 talk',\n",
       " u'00 talking',\n",
       " u'00 television',\n",
       " u'00 thanks',\n",
       " u'00 things',\n",
       " u'00 today',\n",
       " u'00 tough',\n",
       " u'00 tremendous',\n",
       " u'00 troops',\n",
       " u'00 watch',\n",
       " u'00 week',\n",
       " u'000',\n",
       " u'000 00',\n",
       " u'000 000',\n",
       " u'000 10',\n",
       " u'000 100',\n",
       " u'000 11',\n",
       " u'000 13',\n",
       " u'000 15',\n",
       " u'000 200',\n",
       " u'000 2000',\n",
       " u'000 250',\n",
       " u'000 35',\n",
       " u'000 388',\n",
       " u'000 4000',\n",
       " u'000 50',\n",
       " u'000 60',\n",
       " u'000 amazing',\n",
       " u'000 americans',\n",
       " u'000 americas',\n",
       " u'000 amvets',\n",
       " u'000 attendees',\n",
       " u'000 babies',\n",
       " u'000 bad',\n",
       " u'000 barackobama',\n",
       " u'000 barrels',\n",
       " u'000 brazilian',\n",
       " u'000 budget',\n",
       " u'000 campaign',\n",
       " u'000 carly',\n",
       " u'000 cguard',\n",
       " u'000 charity',\n",
       " u'000 check',\n",
       " u'000 checks',\n",
       " u'000 clinton',\n",
       " u'000 code',\n",
       " u'000 come',\n",
       " u'000 coming',\n",
       " u'000 contribution',\n",
       " u'000 crown',\n",
       " u'000 days',\n",
       " u'000 deleted',\n",
       " u'000 democrats',\n",
       " u'000 didnt',\n",
       " u'000 direct',\n",
       " u'000 dont',\n",
       " u'000 eliminated',\n",
       " u'000 emails',\n",
       " u'000 extortion',\n",
       " u'000 fact',\n",
       " u'000 family',\n",
       " u'000 fee',\n",
       " u'000 fellow',\n",
       " u'000 fewer',\n",
       " u'000 fines',\n",
       " u'000 folks',\n",
       " u'000 followers',\n",
       " u'000 food',\n",
       " u'000 got',\n",
       " u'000 great',\n",
       " u'000 illegal',\n",
       " u'000 illegally',\n",
       " u'000 immigrants',\n",
       " u'000 inside',\n",
       " u'000 investment',\n",
       " u'000 jobs',\n",
       " u'000 just',\n",
       " u'000 left',\n",
       " u'000 loan',\n",
       " u'000 lose',\n",
       " u'000 macy',\n",
       " u'000 mail',\n",
       " u'000 mails',\n",
       " u'000 major',\n",
       " u'000 make',\n",
       " u'000 manufacturing',\n",
       " u'000 maybe',\n",
       " u'000 mean',\n",
       " u'000 miles',\n",
       " u'000 missing',\n",
       " u'000 mobile',\n",
       " u'000 money',\n",
       " u'000 negative',\n",
       " u'000 net',\n",
       " u'000 new',\n",
       " u'000 oklahoma',\n",
       " u'000 outside',\n",
       " u'000 palestinian',\n",
       " u'000 patriots',\n",
       " u'000 people',\n",
       " u'000 phil',\n",
       " u'000 phony',\n",
       " u'000 polls',\n",
       " u'000 population',\n",
       " u'000 private',\n",
       " u'000 putin',\n",
       " u'000 raised',\n",
       " u'000 raisedgave',\n",
       " u'000 rapes',\n",
       " u'000 really',\n",
       " u'000 record',\n",
       " u'000 refugees',\n",
       " u'000 register',\n",
       " u'000 registered',\n",
       " u'000 rga',\n",
       " u'000 room',\n",
       " u'000 said',\n",
       " u'000 san',\n",
       " u'000 sarasota',\n",
       " u'000 say',\n",
       " u'000 self',\n",
       " u'000 sell',\n",
       " u'000 settlement',\n",
       " u'000 showed',\n",
       " u'000 soldiers',\n",
       " u'000 supporters',\n",
       " u'000 terror',\n",
       " u'000 tha',\n",
       " u'000 thank',\n",
       " u'000 thanked',\n",
       " u'000 thats',\n",
       " u'000 theaters',\n",
       " u'000 theyre',\n",
       " u'000 theyve',\n",
       " u'000 total',\n",
       " u'000 turned',\n",
       " u'000 twitter',\n",
       " u'000 unbelievable',\n",
       " u'000 validated',\n",
       " u'000 veterans',\n",
       " u'000 vets',\n",
       " u'000 votes',\n",
       " u'000 wi',\n",
       " u'000 women',\n",
       " u'000 years',\n",
       " u'000 yesterday',\n",
       " u'000hermansjr000',\n",
       " u'000hermansjr000 fantastic',\n",
       " u'007cigarjoe',\n",
       " u'007cigarjoe makeamericagreatagain',\n",
       " u'007llisav',\n",
       " u'007llisav cnn',\n",
       " u'00am',\n",
       " u'00am discuss',\n",
       " u'00patriot',\n",
       " u'00patriot wife',\n",
       " u'00pm',\n",
       " u'00pm 30pm',\n",
       " u'00pm anderson',\n",
       " u'00pm fox',\n",
       " u'00pm join',\n",
       " u'00pm maga',\n",
       " u'00pm tickets',\n",
       " u'00pm time',\n",
       " u'00pm trump2016',\n",
       " u'00pm trumprally',\n",
       " u'00pm wait',\n",
       " u'00pme',\n",
       " u'00pme mesa',\n",
       " u'00pmest',\n",
       " u'00pmest today',\n",
       " u'02',\n",
       " u'02 enjoy',\n",
       " u'03',\n",
       " u'03 06',\n",
       " u'0303',\n",
       " u'0303 need',\n",
       " u'03slex',\n",
       " u'03slex realdonaldtrump',\n",
       " u'040',\n",
       " u'040 household',\n",
       " u'05fxdli',\n",
       " u'05fxdli realdonaldtrump',\n",
       " u'06',\n",
       " u'06 07',\n",
       " u'06 barackobama',\n",
       " u'061615',\n",
       " u'061615 11am',\n",
       " u'07',\n",
       " u'07 45',\n",
       " u'07 adding',\n",
       " u'07 speech',\n",
       " u'08',\n",
       " u'08 america',\n",
       " u'08 barackobama',\n",
       " u'08 paulryanvp',\n",
       " u'08 picture',\n",
       " u'08 thank',\n",
       " u'08 won',\n",
       " u'09',\n",
       " u'09 congratulations',\n",
       " u'09 median',\n",
       " u'09 true',\n",
       " u'0nlypablo',\n",
       " u'0nlypablo watching',\n",
       " u'10',\n",
       " u'10 00',\n",
       " u'10 000',\n",
       " u'10 10pm',\n",
       " u'10 11',\n",
       " u'10 11pm',\n",
       " u'10 12',\n",
       " u'10 15',\n",
       " u'10 2015',\n",
       " u'10 30',\n",
       " u'10 30am',\n",
       " u'10 31',\n",
       " u'10 3b',\n",
       " u'10 800',\n",
       " u'10 actually',\n",
       " u'10 americans',\n",
       " u'10 bad',\n",
       " u'10 billion',\n",
       " u'10 bush',\n",
       " u'10 carson',\n",
       " u'10 celebrities',\n",
       " u'10 cruz',\n",
       " u'10 csn',\n",
       " u'10 employers',\n",
       " u'10 expensive',\n",
       " u'10 feet',\n",
       " u'10 forbes',\n",
       " u'10 hotels',\n",
       " u'10 hours',\n",
       " u'10 johnkasich',\n",
       " u'10 kasich',\n",
       " u'10 let',\n",
       " u'10 liberty',\n",
       " u'10 makeamericagreatagain',\n",
       " u'10 million',\n",
       " u'10 minutes',\n",
       " u'10 months',\n",
       " u'10 o0',\n",
       " u'10 obama',\n",
       " u'10 okay',\n",
       " u'10 pm',\n",
       " u'10 points',\n",
       " u'10 polls',\n",
       " u'10 rubio',\n",
       " u'10 sailors',\n",
       " u'10 shows',\n",
       " u'10 songs',\n",
       " u'10 speech',\n",
       " u'10 trillion',\n",
       " u'10 vote',\n",
       " u'10 wheeler',\n",
       " u'10 years',\n",
       " u'10 yr',\n",
       " u'10 yrs',\n",
       " u'100',\n",
       " u'100 000',\n",
       " u'100 150',\n",
       " u'100 2016',\n",
       " u'100 90',\n",
       " u'100 agreed',\n",
       " u'100 backing',\n",
       " u'100 barrel',\n",
       " u'100 billion',\n",
       " u'100 bills',\n",
       " u'100 certain',\n",
       " u'100 chance',\n",
       " u'100 clueless',\n",
       " u'100 companies',\n",
       " u'100 concentrated',\n",
       " u'100 controlled',\n",
       " u'100 corner',\n",
       " u'100 correct',\n",
       " u'100 customers',\n",
       " u'100 day',\n",
       " u'100 days',\n",
       " u'100 didnt',\n",
       " u'100 disabled',\n",
       " u'100 draintheswamp',\n",
       " u'100 effort',\n",
       " u'100 fabricated',\n",
       " u'100 fair',\n",
       " u'100 focus',\n",
       " u'100 fundraisers',\n",
       " u'100 gala',\n",
       " u'100 gold',\n",
       " u'100 got',\n",
       " u'100 liberal',\n",
       " u'100 libya',\n",
       " u'100 makeamericagreatagain',\n",
       " u'100 mccain',\n",
       " u'100 million',\n",
       " u'100 owned',\n",
       " u'100 pages',\n",
       " u'100 percent',\n",
       " u'100 recommend',\n",
       " u'100 responsible',\n",
       " u'100 right',\n",
       " u'100 rounds',\n",
       " u'100 said',\n",
       " u'100 stay',\n",
       " u'100 support',\n",
       " u'100 terrified',\n",
       " u'100 thank',\n",
       " u'100 times',\n",
       " u'100 true',\n",
       " u'100 trump',\n",
       " u'100 women',\n",
       " u'100 wrong',\n",
       " u'100 wtwo',\n",
       " u'100 years',\n",
       " u'100 youre',\n",
       " u'1000',\n",
       " u'1000 correct',\n",
       " u'1000 foxnews',\n",
       " u'1000 retweets',\n",
       " u'1001',\n",
       " u'1001 delegates',\n",
       " u'100k',\n",
       " u'100k followers',\n",
       " u'100k jobs',\n",
       " u'100k news',\n",
       " u'100m',\n",
       " u'100m attack',\n",
       " u'100m people',\n",
       " u'100m receiving',\n",
       " u'100x',\n",
       " u'100x tirade',\n",
       " u'101',\n",
       " u'101 realdonaldtrump',\n",
       " u'1018',\n",
       " u'1018 register',\n",
       " u'102barrel',\n",
       " u'102barrel barackobama',\n",
       " u'103',\n",
       " u'103 cont',\n",
       " u'1032015',\n",
       " u'1032015 isis',\n",
       " u'10615',\n",
       " u'10615 morning',\n",
       " u'10615 reuters',\n",
       " u'109',\n",
       " u'109 walkerlaflin',\n",
       " u'10am',\n",
       " u'10am cbs',\n",
       " u'10am ct',\n",
       " u'10am est',\n",
       " u'10am et',\n",
       " u'10k',\n",
       " u'10k plus',\n",
       " u'10m',\n",
       " u'10m debt',\n",
       " u'10pe',\n",
       " u'10pe foxnews',\n",
       " u'10pm',\n",
       " u'10pm cnn',\n",
       " u'10pm discussing',\n",
       " u'10pm enjoy',\n",
       " u'10pm est',\n",
       " u'10pm et',\n",
       " u'10pm fox',\n",
       " u'10pm foxnews',\n",
       " u'10pm hosted',\n",
       " u'10pm hour',\n",
       " u'10pm pennsylvania',\n",
       " u'10pm pensacola',\n",
       " u'10pm tonight',\n",
       " u'10pme',\n",
       " u'10pme abc2020',\n",
       " u'10pme austin',\n",
       " u'10pme delivering',\n",
       " u'10pme enjoy',\n",
       " u'10pme foxnews',\n",
       " u'10pme melaniatrump',\n",
       " u'10pme talking',\n",
       " u'10t',\n",
       " u'10t debt',\n",
       " u'10th',\n",
       " u'10th generation',\n",
       " u'10th makeamericagreatagain',\n",
       " u'10th opening',\n",
       " u'10th wedding',\n",
       " u'10thurst',\n",
       " u'10thurst realdonaldtrump',\n",
       " u'10x',\n",
       " u'10x 50m',\n",
       " u'10yrs',\n",
       " u'10yrs dt',\n",
       " u'11',\n",
       " u'11 00',\n",
       " u'11 000',\n",
       " u'11 12',\n",
       " u'11 30',\n",
       " u'11 30am',\n",
       " u'11 35pme',\n",
       " u'11 50',\n",
       " u'11 ac',\n",
       " u'11 barackobama',\n",
       " u'11 bush',\n",
       " u'11 drudge',\n",
       " u'11 fiorina',\n",
       " u'11 foxnews',\n",
       " u'11 foxnewsinsider',\n",
       " u'11 great',\n",
       " u'11 imagine',\n",
       " u'11 jack',\n",
       " u'11 know',\n",
       " u'11 million',\n",
       " u'11 muslim',\n",
       " u'11 pacs',\n",
       " u'11 parents',\n",
       " u'11 people',\n",
       " u'11 pm',\n",
       " u'11 points',\n",
       " u'11 solyndras',\n",
       " u'11 tape',\n",
       " u'11 thelastrefuge2',\n",
       " u'11 theyre',\n",
       " u'11 twitter',\n",
       " u'11 wsj',\n",
       " u'11 years',\n",
       " u'110',\n",
       " u'110 purchased',\n",
       " u'110 thanks',\n",
       " u'11082016',\n",
       " u'11082016 make',\n",
       " u'112',\n",
       " u'112 getting',\n",
       " u'112 remaining',\n",
       " u'112 want',\n",
       " u'112 years',\n",
       " u'113',\n",
       " u'113 12pm',\n",
       " u'113 826',\n",
       " u'113 johnlegere',\n",
       " u'113 trump',\n",
       " u'114',\n",
       " u'114 jetliners',\n",
       " u'1145',\n",
       " u'1145 delegates',\n",
       " u'116',\n",
       " u'116 increase',\n",
       " u'1172016',\n",
       " u'1172016 scranton',\n",
       " u'118',\n",
       " u'118 airbus',\n",
       " u'118 lets',\n",
       " u'118 make',\n",
       " u'118 vote',\n",
       " u'118 watch',\n",
       " u'11816',\n",
       " u'11816 lets',\n",
       " u'11816 make',\n",
       " u'11816 makeamericagreatagain',\n",
       " u'1182016',\n",
       " u'1182016 draintheswamp',\n",
       " u'1182016 make',\n",
       " u'1182016 makeamericagreatagain',\n",
       " u'1182016 trump2016',\n",
       " u'118m',\n",
       " u'118m just',\n",
       " u'119',\n",
       " u'119 000',\n",
       " u'119 times',\n",
       " u'11a',\n",
       " u'11a greeley',\n",
       " u'11am',\n",
       " u'11am 5pm',\n",
       " u'11am 611',\n",
       " u'11am follow',\n",
       " u'11am makeamericagreatagain',\n",
       " u'11am manhattan',\n",
       " u'11am trumptowerny',\n",
       " u'11am waterloo',\n",
       " u'11m',\n",
       " u'11m ny',\n",
       " u'11phenomenon',\n",
       " u'11phenomenon despite',\n",
       " u'11phenomenon lyingted',\n",
       " u'11pm',\n",
       " u'11pm enjoy',\n",
       " u'11pm foxnews',\n",
       " u'11pm won',\n",
       " u'11pme',\n",
       " u'11pme foxnews',\n",
       " u'11th',\n",
       " u'11th great',\n",
       " u'11th help',\n",
       " u'11th hijackers',\n",
       " u'11th hijackists',\n",
       " u'11th important',\n",
       " u'11th nearly',\n",
       " u'11th realclearnews',\n",
       " u'11th worst',\n",
       " u'12',\n",
       " u'12 00',\n",
       " u'12 000',\n",
       " u'12 13',\n",
       " u'12 15',\n",
       " u'12 30',\n",
       " u'12 30pm',\n",
       " u'12 believe',\n",
       " u'12 billion',\n",
       " u'12 bush',\n",
       " u'12 ca',\n",
       " u'12 carson',\n",
       " u'12 clock',\n",
       " u'12 dallas',\n",
       " u'12 day',\n",
       " u'12 dead',\n",
       " u'12 delegates',\n",
       " u'12 don',\n",
       " u'12 drudge',\n",
       " u'12 fav',\n",
       " u'12 foxnews',\n",
       " u'12 hours',\n",
       " u'12 hrc',\n",
       " u'12 im',\n",
       " u'12 inch',\n",
       " u'12 know',\n",
       " u'12 make',\n",
       " u'12 million',\n",
       " u'12 mittromney',\n",
       " u'12 new',\n",
       " u'12 noon',\n",
       " u'12 pm',\n",
       " u'12 point',\n",
       " u'12 points',\n",
       " u'12 prepared',\n",
       " u'12 realbencarson',\n",
       " u'12 rubio',\n",
       " u'12 seconds',\n",
       " u'12 taylor',\n",
       " u'12 theyre',\n",
       " u'12 thinks',\n",
       " u'12 time',\n",
       " u'12 times',\n",
       " u'12 took',\n",
       " u'12 women',\n",
       " u'12 years',\n",
       " u'120',\n",
       " u'120 000',\n",
       " u'120 million',\n",
       " u'120k',\n",
       " u'121',\n",
       " u'121 night',\n",
       " u'123',\n",
       " u'123 30',\n",
       " u'1237',\n",
       " u'1237 1237',\n",
       " u'1237 delegates',\n",
       " u'1237 drop',\n",
       " u'1237 need',\n",
       " u'1237 trump2016',\n",
       " u'123barrel',\n",
       " u'123barrel need',\n",
       " u'123jayne',\n",
       " u'123jayne realdonaldtrump',\n",
       " u'125',\n",
       " u'125 million',\n",
       " u'125 regulatory',\n",
       " u'128',\n",
       " u'128 dying',\n",
       " u'1290',\n",
       " u'1290 avenue',\n",
       " u'12hr',\n",
       " u'12hr american',\n",
       " u'12k',\n",
       " u'12k trump2016',\n",
       " u'12m',\n",
       " u'12m commitment',\n",
       " u'12pm',\n",
       " u'12pm let',\n",
       " u'12pm orlando',\n",
       " u'12pm saturday',\n",
       " u'12pm thursday',\n",
       " u'12pm tomorrow',\n",
       " u'12pm trump',\n",
       " u'12pm trumptowerny',\n",
       " u'12pm warren',\n",
       " u'12t',\n",
       " u'12t new',\n",
       " u'13',\n",
       " u'13 000',\n",
       " u'13 33',\n",
       " u'13 375',\n",
       " u'13 august',\n",
       " u'13 bush',\n",
       " u'13 cruz',\n",
       " u'13 devices',\n",
       " u'13 dropped',\n",
       " u'13 dumps',\n",
       " u'13 ended',\n",
       " u'13 hope',\n",
       " u'13 hulton',\n",
       " u'13 income',\n",
       " u'13 jeb',\n",
       " u'13 million',\n",
       " u'13 point',\n",
       " u'13 points',\n",
       " u'13 realdonaldtrump',\n",
       " u'13 rubio',\n",
       " u'13 states',\n",
       " u'13 syrian',\n",
       " u'13 year',\n",
       " u'13 years',\n",
       " u'130',\n",
       " u'130 brutally',\n",
       " u'130 follow',\n",
       " u'130 people',\n",
       " u'1314',\n",
       " u'1314 derp',\n",
       " u'136',\n",
       " u'136 260',\n",
       " u'139',\n",
       " u'139 yt',\n",
       " u'139th',\n",
       " u'139th wkcdogs',\n",
       " u'13ascot81',\n",
       " u'13ascot81 realdonaldtrump',\n",
       " u'13m',\n",
       " u'13m failed',\n",
       " u'13m online',\n",
       " u'13th',\n",
       " u'13th season',\n",
       " u'13th tee',\n",
       " u'14',\n",
       " u'14 00',\n",
       " u'14 000',\n",
       " u'14 12',\n",
       " u'14 15',\n",
       " u'14 23',\n",
       " u'14 27',\n",
       " u'14 apprenticenbc',\n",
       " u'14 black',\n",
       " u'14 bush',\n",
       " u'14 cruz',\n",
       " u'14 hall',\n",
       " u'14 hired',\n",
       " u'14 interpol',\n",
       " u'14 kasich',\n",
       " u'14 million',\n",
       " u'14 months',\n",
       " u'14 obamacare',\n",
       " u'14 people',\n",
       " u'14 plus',\n",
       " u'14 points',\n",
       " u'14 reasons',\n",
       " u'14 thank',\n",
       " u'14 trump',\n",
       " u'14 year',\n",
       " u'14 years',\n",
       " u'14 young',\n",
       " u'14 yr',\n",
       " u'140',\n",
       " u'140 000',\n",
       " u'140 character',\n",
       " u'140 games',\n",
       " u'142',\n",
       " u'142 thanks',\n",
       " u'143',\n",
       " u'143 delegates',\n",
       " u'147m',\n",
       " u'147m aid',\n",
       " u'149',\n",
       " u'149 polls',\n",
       " u'14th',\n",
       " u'14th amendment',\n",
       " u'14th going',\n",
       " u'14th pm',\n",
       " u'14th season',\n",
       " u'15',\n",
       " u'15 000',\n",
       " u'15 11',\n",
       " u'15 12',\n",
       " u'15 16',\n",
       " u'15 20',\n",
       " u'15 500',\n",
       " u'15 absentee',\n",
       " u'15 barackobama',\n",
       " u'15 bush',\n",
       " u'15 cruz',\n",
       " u'15 democrats',\n",
       " u'15 enjoy',\n",
       " u'15 feet',\n",
       " u'15 just',\n",
       " u'15 million',\n",
       " u'15 minutes',\n",
       " u'15 months',\n",
       " u'15 people',\n",
       " u'15 percent',\n",
       " u'15 policemen',\n",
       " u'15 real',\n",
       " u'15 round',\n",
       " u'15 rubio',\n",
       " u'15 think',\n",
       " u'15 trillion',\n",
       " u'15 unsustainable',\n",
       " u'15 wks',\n",
       " u'15 year',\n",
       " u'15 years',\n",
       " u'15 youtube',\n",
       " u'150',\n",
       " u'150 000',\n",
       " u'150 billion',\n",
       " u'150 clinton',\n",
       " u'150 european',\n",
       " u'150 oil',\n",
       " u'150k',\n",
       " u'150k sure',\n",
       " u'150m',\n",
       " u'152',\n",
       " u'152 far',\n",
       " u'15k',\n",
       " u'15k new',\n",
       " u'15k ok',\n",
       " u'15pinnacle',\n",
       " u'15pinnacle donaldtrump',\n",
       " u'15t',\n",
       " u'15t gdp',\n",
       " u'15th',\n",
       " u'15th obama',\n",
       " u'16',\n",
       " u'16 000',\n",
       " u'16 14',\n",
       " u'16 1st',\n",
       " u'16 2015',\n",
       " u'16 2016',\n",
       " u'16 500',\n",
       " u'16 acres',\n",
       " u'16 american',\n",
       " u'16 apologize',\n",
       " u'16 best',\n",
       " u'16 bush',\n",
       " u'16 carson',\n",
       " u'16 going',\n",
       " u'16 good',\n",
       " u'16 great',\n",
       " u'16 million',\n",
       " u'16 months',\n",
       " u'16 muslim',\n",
       " u'16 opponents',\n",
       " u'16 opponentsfinanced',\n",
       " u'16 people',\n",
       " u'16 real',\n",
       " u'16 realdonaldtrump',\n",
       " u'16 times',\n",
       " u'16 trillion',\n",
       " u'16 vacations',\n",
       " u'16 wait',\n",
       " u'16 year',\n",
       " u'16 years',\n",
       " u'16 youtube',\n",
       " u'16t',\n",
       " u'16t debt',\n",
       " u'16t dnc',\n",
       " u'16t national',\n",
       " u'16th',\n",
       " u'16th announced',\n",
       " u'16th announcement',\n",
       " u'16th came',\n",
       " u'16th coming',\n",
       " u'16th cost',\n",
       " u'16th did',\n",
       " u'16th establishment',\n",
       " u'16th look',\n",
       " u'16th presidential',\n",
       " u'16th told',\n",
       " u'16th trump',\n",
       " u'16th vacation',\n",
       " u'16th vote',\n",
       " u'16th wife',\n",
       " u'17',\n",
       " u'17 000',\n",
       " u'17 100',\n",
       " u'17 50',\n",
       " u'17 5t',\n",
       " u'17 brave',\n",
       " u'17 bring',\n",
       " u'17 candidates',\n",
       " u'17 cruz',\n",
       " u'17 dont',\n",
       " u'17 egos',\n",
       " u'17 instead',\n",
       " u'17 lost',\n",
       " u'17 meaning',\n",
       " u'17 number',\n",
       " u'17 opponents',\n",
       " u'17 people',\n",
       " u'17 point',\n",
       " u'17 realdonaldtrump',\n",
       " u'17 started',\n",
       " u'17 talented',\n",
       " u'17 trump2016',\n",
       " u'17 year',\n",
       " u'170',\n",
       " u'170 iq',\n",
       " u'173k',\n",
       " u'173k new',\n",
       " u'1776',\n",
       " u'1776 pearl',\n",
       " u'1776pirate',\n",
       " u'1776pirate lindseygrahamsc',\n",
       " u'179',\n",
       " u'179 249',\n",
       " u'179 days',\n",
       " u'1791',\n",
       " u'1791 foxnews',\n",
       " u'17t',\n",
       " u'17t national',\n",
       " u'17th',\n",
       " u'17th 17th',\n",
       " u'17th em',\n",
       " u'17th started',\n",
       " u'18',\n",
       " u'18 000',\n",
       " u'18 142',\n",
       " u'18 19',\n",
       " u'18 20',\n",
       " u'18 290',\n",
       " u'18 49',\n",
       " u'18 barackobama',\n",
       " u'18 big',\n",
       " u'18 block',\n",
       " u'18 bush',\n",
       " u'18 carson',\n",
       " u'18 hole',\n",
       " u'18 holes',\n",
       " u'18 know',\n",
       " u'18 luxurious',\n",
       " u'18 million',\n",
       " u'18 months',\n",
       " u'18 people',\n",
       " u'18 real',\n",
       " u'18 rubio',\n",
       " u'18 second',\n",
       " u'18 sign',\n",
       " u'18 trillion',\n",
       " u'18 trump',\n",
       " u'18 vote',\n",
       " u'18 went',\n",
       " u'18 year',\n",
       " u'18 years',\n",
       " u'180',\n",
       " u'180 000',\n",
       " u'180 million',\n",
       " u'184',\n",
       " u'184 today',\n",
       " u'185',\n",
       " u'185 000',\n",
       " u'185 ballot',\n",
       " u'18th',\n",
       " u'18th hole',\n",
       " u'19',\n",
       " u'19 000',\n",
       " u'19 13',\n",
       " u'19 78',\n",
       " u'19 bush',\n",
       " u'19 businesses',\n",
       " u'19 gingerpascoe',\n",
       " u'19 maybe',\n",
       " u'19 points',\n",
       " u'19 prisoners',\n",
       " u'19 realdonaldtrump',\n",
       " u'19 rubio',\n",
       " u'19 tell',\n",
       " u'19 trillion',\n",
       " u'19 vote',\n",
       " u'19 want',\n",
       " u'190',\n",
       " u'190 countries',\n",
       " u'1908',\n",
       " u'1915',\n",
       " u'1915 2012',\n",
       " u'1920',\n",
       " u'1920 people',\n",
       " u'1929',\n",
       " u'1929 bigleaguetruth',\n",
       " u'1930s',\n",
       " u'1930s wow',\n",
       " u'1934',\n",
       " u'1934 2012',\n",
       " u'1940s',\n",
       " u'1940s saved',\n",
       " u'1944',\n",
       " u'1949z',\n",
       " u'1949z steph93065',\n",
       " u'1961',\n",
       " u'1961 ins',\n",
       " u'1969',\n",
       " u'1969 skyline',\n",
       " u'1970rachael',\n",
       " u'1970rachael crazymamaa',\n",
       " u'1978',\n",
       " u'1978 think',\n",
       " u'197m',\n",
       " u'197m solar',\n",
       " u'198',\n",
       " u'198 50',\n",
       " u'1983',\n",
       " u'1983 2008',\n",
       " u'1984',\n",
       " u'1984 mondaleferraro',\n",
       " u'1985',\n",
       " u'1985 realdonaldtrump',\n",
       " u'1988',\n",
       " u'1988 oprah',\n",
       " u'1988 wout',\n",
       " u'1989',\n",
       " u'1989 tell',\n",
       " u'1990',\n",
       " u'1990 guess',\n",
       " u'1990s',\n",
       " u'1990s embassies',\n",
       " u'1990s knew',\n",
       " u'1991',\n",
       " u'1991 booklet',\n",
       " u'1991 million',\n",
       " u'1991 pilots',\n",
       " u'1999',\n",
       " u'1999 hi',\n",
       " u'19pts',\n",
       " u'19pts empire',\n",
       " u'19th',\n",
       " u'19th missuniverse',\n",
       " u'19th open',\n",
       " u'19thwheel',\n",
       " u'19thwheel heard',\n",
       " u'19thwheel megynkelly',\n",
       " u'1a',\n",
       " u'1a0e358348904f5',\n",
       " u'1a0e358348904f5 need',\n",
       " u'1b',\n",
       " u'1b just',\n",
       " u'1b reform',\n",
       " u'1barbara1',\n",
       " u'1barbara1 realdonaldtrump',\n",
       " u'1billion',\n",
       " u'1billion dollars',\n",
       " u'1billion embassy',\n",
       " u'1for',\n",
       " u'1for pol',\n",
       " u'1italianheart',\n",
       " u'1italianheart need',\n",
       " u'1k',\n",
       " u'1k retweets',\n",
       " ...]"
      ]
     },
     "execution_count": 48,
     "metadata": {},
     "output_type": "execute_result"
    }
   ],
   "source": [
    "count_vectorizer.get_feature_names()"
   ]
  },
  {
   "cell_type": "code",
   "execution_count": 49,
   "metadata": {
    "collapsed": true
   },
   "outputs": [],
   "source": [
    "corpus = matutils.Sparse2Corpus(doc_vecs)"
   ]
  },
  {
   "cell_type": "code",
   "execution_count": 50,
   "metadata": {
    "collapsed": true
   },
   "outputs": [],
   "source": [
    "id2word = dict((v, k) for k, v in count_vectorizer.vocabulary_.iteritems())"
   ]
  },
  {
   "cell_type": "code",
   "execution_count": 51,
   "metadata": {
    "collapsed": true
   },
   "outputs": [],
   "source": [
    "lda = models.LdaModel(corpus, id2word=id2word, num_topics=8, passes=10, alpha='auto', eta='auto')"
   ]
  },
  {
   "cell_type": "code",
   "execution_count": 52,
   "metadata": {
    "collapsed": false
   },
   "outputs": [
    {
     "data": {
      "text/plain": [
       "[(0,\n",
       "  u'0.010*\"going\" + 0.006*\"people\" + 0.006*\"know\" + 0.004*\"great\" + 0.004*\"dont\" + 0.004*\"im\" + 0.003*\"said\" + 0.003*\"want\" + 0.003*\"theyre\" + 0.003*\"just\"'),\n",
       " (1,\n",
       "  u'0.013*\"realdonaldtrump\" + 0.011*\"great\" + 0.007*\"trump\" + 0.006*\"thank\" + 0.004*\"tonight\" + 0.004*\"new\" + 0.004*\"poll\" + 0.003*\"night\" + 0.003*\"debate\" + 0.003*\"foxnews\"'),\n",
       " (2,\n",
       "  u'0.005*\"realdonaldtrump\" + 0.004*\"trump\" + 0.004*\"hillary\" + 0.004*\"president\" + 0.003*\"run\" + 0.003*\"just\" + 0.002*\"people\" + 0.002*\"don\" + 0.002*\"said\" + 0.002*\"donald\"'),\n",
       " (3,\n",
       "  u'0.019*\"realdonaldtrump\" + 0.016*\"trump2016\" + 0.013*\"makeamericagreatagain\" + 0.009*\"trump\" + 0.007*\"thank\" + 0.006*\"vote\" + 0.004*\"makeamericagreatagain trump2016\" + 0.004*\"america\" + 0.003*\"donald\" + 0.003*\"jeb\"'),\n",
       " (4,\n",
       "  u'0.023*\"realdonaldtrump\" + 0.014*\"trump\" + 0.007*\"mr\" + 0.006*\"president\" + 0.006*\"mr trump\" + 0.005*\"donald\" + 0.004*\"donald trump\" + 0.003*\"thanks\" + 0.003*\"need\" + 0.002*\"best\"'),\n",
       " (5,\n",
       "  u'0.005*\"marco\" + 0.005*\"realdonaldtrump\" + 0.004*\"marco rubio\" + 0.003*\"rubio\" + 0.003*\"thank\" + 0.002*\"ve\" + 0.002*\"trump\" + 0.002*\"lightweight\" + 0.002*\"don\" + 0.001*\"tmobile\"'),\n",
       " (6,\n",
       "  u'0.007*\"realdonaldtrump\" + 0.006*\"trump\" + 0.003*\"book\" + 0.002*\"golf\" + 0.002*\"crippled america\" + 0.002*\"crippled\" + 0.002*\"donald\" + 0.002*\"celebapprentice\" + 0.002*\"national\" + 0.002*\"hotel\"'),\n",
       " (7,\n",
       "  u'0.007*\"realdonaldtrump\" + 0.006*\"trump\" + 0.003*\"forward\" + 0.003*\"morning\" + 0.002*\"00\" + 0.002*\"carson\" + 0.002*\"looking\" + 0.002*\"gop\" + 0.002*\"foxandfriends\" + 0.002*\"joe\"')]"
      ]
     },
     "execution_count": 52,
     "metadata": {},
     "output_type": "execute_result"
    }
   ],
   "source": [
    "lda.print_topics(num_words=10, num_topics=8)"
   ]
  },
  {
   "cell_type": "code",
   "execution_count": 53,
   "metadata": {
    "collapsed": false
   },
   "outputs": [
    {
     "data": {
      "text/plain": [
       "[(u'going', 0.0097019935638986525),\n",
       " (u'people', 0.0061471157590463621),\n",
       " (u'know', 0.0057102210696970898),\n",
       " (u'great', 0.0039409593042271651),\n",
       " (u'dont', 0.0036535931998889081),\n",
       " (u'im', 0.003633714675095294),\n",
       " (u'said', 0.0032927003509244119),\n",
       " (u'want', 0.003221305844083137),\n",
       " (u'theyre', 0.003066960926221642),\n",
       " (u'just', 0.0030032472288902576),\n",
       " (u'like', 0.0029746819015593149),\n",
       " (u'country', 0.0025226809833915043),\n",
       " (u'think', 0.0024983230983165305),\n",
       " (u'make', 0.0023461554883563414),\n",
       " (u'right', 0.0022977966174836453),\n",
       " (u'thats', 0.002176859965297913),\n",
       " (u'say', 0.0021598554696145651),\n",
       " (u'look', 0.0018504323763576802),\n",
       " (u'america', 0.0017841164459021575),\n",
       " (u'trump', 0.0017781056444670397),\n",
       " (u'good', 0.0017575891232121277),\n",
       " (u'got', 0.0016867648854103849),\n",
       " (u'really', 0.0016476588896282101),\n",
       " (u'win', 0.001591549516038243),\n",
       " (u'money', 0.0015875709059212457),\n",
       " (u'lot', 0.001578789671798966),\n",
       " (u'way', 0.0015266630552167764),\n",
       " (u'mean', 0.0014769663485704951),\n",
       " (u'time', 0.0014441262839540079),\n",
       " (u'thank', 0.0014037973960927294)]"
      ]
     },
     "execution_count": 53,
     "metadata": {},
     "output_type": "execute_result"
    }
   ],
   "source": [
    "sorted(lda.show_topic(0, topn=30), key=lambda x: x[1], reverse=True) [:30]"
   ]
  },
  {
   "cell_type": "code",
   "execution_count": 46,
   "metadata": {
    "collapsed": true
   },
   "outputs": [],
   "source": [
    "lda_corpus = lda[corpus]"
   ]
  },
  {
   "cell_type": "code",
   "execution_count": 47,
   "metadata": {
    "collapsed": true
   },
   "outputs": [],
   "source": [
    "lda_docs = [doc for doc in lda_corpus]"
   ]
  },
  {
   "cell_type": "code",
   "execution_count": 48,
   "metadata": {
    "collapsed": false
   },
   "outputs": [
    {
     "ename": "NameError",
     "evalue": "name 'list_dir' is not defined",
     "output_type": "error",
     "traceback": [
      "\u001b[0;31m---------------------------------------------------------------------------\u001b[0m",
      "\u001b[0;31mNameError\u001b[0m                                 Traceback (most recent call last)",
      "\u001b[0;32m<ipython-input-48-54e5f1ffeda6>\u001b[0m in \u001b[0;36m<module>\u001b[0;34m()\u001b[0m\n\u001b[0;32m----> 1\u001b[0;31m \u001b[0mdoc_topics\u001b[0m \u001b[0;34m=\u001b[0m \u001b[0;34m[\u001b[0m\u001b[0;34m[\u001b[0m\u001b[0mtext_list\u001b[0m\u001b[0;34m[\u001b[0m\u001b[0mi\u001b[0m\u001b[0;34m]\u001b[0m\u001b[0;34m,\u001b[0m\u001b[0mlda_docs\u001b[0m\u001b[0;34m[\u001b[0m\u001b[0mi\u001b[0m\u001b[0;34m]\u001b[0m\u001b[0;34m]\u001b[0m \u001b[0;32mfor\u001b[0m \u001b[0mi\u001b[0m \u001b[0;32min\u001b[0m \u001b[0mrange\u001b[0m\u001b[0;34m(\u001b[0m\u001b[0mlen\u001b[0m\u001b[0;34m(\u001b[0m\u001b[0mlist_dir\u001b[0m\u001b[0;34m)\u001b[0m\u001b[0;34m)\u001b[0m\u001b[0;34m]\u001b[0m\u001b[0;34m\u001b[0m\u001b[0m\n\u001b[0m",
      "\u001b[0;31mNameError\u001b[0m: name 'list_dir' is not defined"
     ]
    }
   ],
   "source": [
    "doc_topics = [[text_list[i],lda_docs[i]] for i in range(len(list_dir))]"
   ]
  },
  {
   "cell_type": "code",
   "execution_count": 189,
   "metadata": {
    "collapsed": true
   },
   "outputs": [],
   "source": [
    "sentence = \"that's changed bc of you. love u! #trump2016' really\""
   ]
  },
  {
   "cell_type": "code",
   "execution_count": 1,
   "metadata": {
    "collapsed": true
   },
   "outputs": [],
   "source": [
    "losers  = [\"Republicans must stop relying on losers like @KarlRo\",\n",
    "           \"@realDonaldTrump The biggest loser in the debate was\",\n",
    "           \"DonaldTrump was right about #RosieODonnell. She is a\",\n",
    "           \"Despite what the haters and losers like to say, I ne\"]"
   ]
  },
  {
   "cell_type": "code",
   "execution_count": 2,
   "metadata": {
    "collapsed": true
   },
   "outputs": [],
   "source": [
    "terrible =[\"I loved beating these two terrible human beings. I w\",\n",
    "           \"If crazy @megynkelly didn't cover me so much on her \",\n",
    "           \"If Hillary thinks she can unleash her husband, with \",\n",
    "           \"President Obama was terrible on @60Minutes tonight. \"]"
   ]
  },
  {
   "cell_type": "code",
   "execution_count": 3,
   "metadata": {
    "collapsed": true
   },
   "outputs": [],
   "source": [
    "dumbest = [\"Bryant Gumbel is one of the dumbest racists around -\",\n",
    "           \"Really stupid leadership that wants Al Sharpton to h\",\n",
    "           \"Hillary Clinton is not qualified to be president bec\",\n",
    "           \"after all these years of watching stupidity, we will\"]"
   ]
  },
  {
   "cell_type": "code",
   "execution_count": 4,
   "metadata": {
    "collapsed": true
   },
   "outputs": [],
   "source": [
    "worst =   [\"Bill Clinton is the WORST abuser of woman in U.S. po\",\n",
    "           \"President Obama is the worst president in U.S. histo\",\n",
    "           \"Mitt Romney is one of the dumbest and worst candidat\",\n",
    "           \"ObamaCare is one of the worst political disasters of\"]"
   ]
  },
  {
   "cell_type": "code",
   "execution_count": 28,
   "metadata": {
    "collapsed": true
   },
   "outputs": [],
   "source": [
    "mediadis =[\"Megyn Kelly must have had a terrible vacation, she i\",\n",
    "           \"Jon Stewart is a joke, not very bright and totally o\",\n",
    "           \"@megynkelly recently said that she can't be wooed by\",\n",
    "           \"@NYDailyNews but little Mort Zuckerman is franticall\"]"
   ]
  },
  {
   "cell_type": "code",
   "execution_count": 29,
   "metadata": {
    "collapsed": true
   },
   "outputs": [],
   "source": [
    "obama =   [\"We will immediately repeal and replace ObamaCare - a\",\n",
    "           \"Obama has done such a poor job as president, you won\",\n",
    "           \"Obama has no understanding of how to create jobs or \",\n",
    "           \"Obama is truly a pathetic excuse of a president, can\"]"
   ]
  },
  {
   "cell_type": "code",
   "execution_count": 30,
   "metadata": {
    "collapsed": false
   },
   "outputs": [],
   "source": [
    "random = losers + terrible + dumbest + worst + mediadis + obama"
   ]
  },
  {
   "cell_type": "code",
   "execution_count": 31,
   "metadata": {
    "collapsed": false
   },
   "outputs": [
    {
     "data": {
      "text/plain": [
       "['Republicans must stop relying on losers like @KarlRo',\n",
       " '@realDonaldTrump The biggest loser in the debate was',\n",
       " 'DonaldTrump was right about #RosieODonnell. She is a',\n",
       " 'Despite what the haters and losers like to say, I ne',\n",
       " 'I loved beating these two terrible human beings. I w',\n",
       " \"If crazy @megynkelly didn't cover me so much on her \",\n",
       " 'If Hillary thinks she can unleash her husband, with ',\n",
       " 'President Obama was terrible on @60Minutes tonight. ',\n",
       " 'Bryant Gumbel is one of the dumbest racists around -',\n",
       " 'Really stupid leadership that wants Al Sharpton to h',\n",
       " 'Hillary Clinton is not qualified to be president bec',\n",
       " 'after all these years of watching stupidity, we will',\n",
       " 'Bill Clinton is the WORST abuser of woman in U.S. po',\n",
       " 'President Obama is the worst president in U.S. histo',\n",
       " 'Mitt Romney is one of the dumbest and worst candidat',\n",
       " 'ObamaCare is one of the worst political disasters of',\n",
       " 'Megyn Kelly must have had a terrible vacation, she i',\n",
       " 'Jon Stewart is a joke, not very bright and totally o',\n",
       " \"@megynkelly recently said that she can't be wooed by\",\n",
       " '@NYDailyNews but little Mort Zuckerman is franticall',\n",
       " 'We will immediately repeal and replace ObamaCare - a',\n",
       " 'Obama has done such a poor job as president, you won',\n",
       " 'Obama has no understanding of how to create jobs or ',\n",
       " 'Obama is truly a pathetic excuse of a president, can']"
      ]
     },
     "execution_count": 31,
     "metadata": {},
     "output_type": "execute_result"
    }
   ],
   "source": [
    "random"
   ]
  },
  {
   "cell_type": "code",
   "execution_count": 24,
   "metadata": {
    "collapsed": false
   },
   "outputs": [
    {
     "data": {
      "text/plain": [
       "['Republicans must stop relying on losers like @KarlRo',\n",
       " '@realDonaldTrump The biggest loser in the debate was',\n",
       " 'DonaldTrump was right about #RosieODonnell. She is a',\n",
       " 'Despite what the haters and losers like to say, I ne',\n",
       " 'I loved beating these two terrible human beings. I w',\n",
       " \"If crazy @megynkelly didn't cover me so much on her \",\n",
       " 'If Hillary thinks she can unleash her husband, with ',\n",
       " 'President Obama was terrible on @60Minutes tonight. ',\n",
       " 'Bryant Gumbel is one of the dumbest racists around -',\n",
       " 'Really stupid leadership that wants Al Sharpton to h',\n",
       " 'Hillary Clinton is not qualified to be president bec',\n",
       " 'after all these years of watching stupidity, we will',\n",
       " 'Bill Clinton is the WORST abuser of woman in U.S. po',\n",
       " 'President Obama is the worst president in U.S. histo',\n",
       " 'Mitt Romney is one of the dumbest and worst candidat',\n",
       " 'ObamaCare is one of the worst political disasters of',\n",
       " 'Megyn Kelly must have had a terrible vacation, she i',\n",
       " 'Jon Stewart is a joke, not very bright and totally o',\n",
       " '@megynkelly recently said that she can\\xe2\\x80\\x99t be wooed by',\n",
       " '@NYDailyNews but little Mort Zuckerman is franticall',\n",
       " 'We will immediately repeal and replace ObamaCare - a',\n",
       " 'Obama has done such a poor job as president, you won',\n",
       " 'Obama has no understanding of how to create jobs or ',\n",
       " 'Obama is truly a pathetic excuse of a president, can']"
      ]
     },
     "execution_count": 24,
     "metadata": {},
     "output_type": "execute_result"
    }
   ],
   "source": [
    "random_doc"
   ]
  },
  {
   "cell_type": "code",
   "execution_count": 194,
   "metadata": {
    "collapsed": false
   },
   "outputs": [],
   "source": [
    "sentence = random.choice(losers)"
   ]
  },
  {
   "cell_type": "code",
   "execution_count": 196,
   "metadata": {
    "collapsed": false
   },
   "outputs": [
    {
     "data": {
      "text/plain": [
       "'republicans must stop relying on losers like @karlro'"
      ]
     },
     "execution_count": 196,
     "metadata": {},
     "output_type": "execute_result"
    }
   ],
   "source": [
    "sentence.lower()"
   ]
  },
  {
   "cell_type": "code",
   "execution_count": 36,
   "metadata": {
    "collapsed": true
   },
   "outputs": [],
   "source": [
    "test = 'republicans must stop relying on losers like @karlrove and jeb bush and what do it was a total disaster. not going to be a ticket of the polls. i mean, i mean, well have a country. i dont know'"
   ]
  },
  {
   "cell_type": "code",
   "execution_count": 34,
   "metadata": {
    "collapsed": false
   },
   "outputs": [
    {
     "data": {
      "text/plain": [
       "'republicans must stop relying on losers like @karlrove and jeb bush and what do it was a total disaster. not going to be a ticket of the polls. i mean, i mean, well have a country. i dont know'"
      ]
     },
     "execution_count": 34,
     "metadata": {},
     "output_type": "execute_result"
    }
   ],
   "source": [
    "'republicans must stop relying on losers like @karlrove and jeb bush and what do it was a total disaster. not going to be a ticket of the polls. i mean, i mean, well have a country. i dont know'"
   ]
  },
  {
   "cell_type": "code",
   "execution_count": 39,
   "metadata": {
    "collapsed": false
   },
   "outputs": [
    {
     "data": {
      "text/plain": [
       "'Republicans must stop relying on losers like @karlrove and jeb bush and what do it was a total disaster. Not going to be a ticket of the polls. I mean, i mean, well have a country. I dont know'"
      ]
     },
     "execution_count": 39,
     "metadata": {},
     "output_type": "execute_result"
    }
   ],
   "source": [
    "'.'.join(map((lambda x: x[0].upper()+x[1:]), test.replace('. ','.').split('.'))).replace('.', '. ')"
   ]
  },
  {
   "cell_type": "code",
   "execution_count": 40,
   "metadata": {
    "collapsed": false
   },
   "outputs": [
    {
     "name": "stderr",
     "output_type": "stream",
     "text": [
      "/Users/lemakikuchi/anaconda/lib/python2.7/site-packages/matplotlib/font_manager.py:273: UserWarning: Matplotlib is building the font cache using fc-list. This may take a moment.\n",
      "  warnings.warn('Matplotlib is building the font cache using fc-list. This may take a moment.')\n"
     ]
    }
   ],
   "source": [
    "from os import path\n",
    "from PIL import Image\n",
    "import numpy as np\n",
    "import matplotlib.pyplot as plt\n",
    "\n",
    "from wordcloud import WordCloud, STOPWORDS"
   ]
  },
  {
   "cell_type": "code",
   "execution_count": 89,
   "metadata": {
    "collapsed": false
   },
   "outputs": [],
   "source": [
    "#d = path.dirname(__file__)\n",
    "#trump_mask = np.array(Image.open(path.join(d, \"trump_head.jpg\")))\n",
    "trump_mask = np.array(Image.open(\"trump_hands1.jpg\"))"
   ]
  },
  {
   "cell_type": "code",
   "execution_count": 105,
   "metadata": {
    "collapsed": false
   },
   "outputs": [
    {
     "data": {
      "image/png": "[encoded data removed]",
      "text/plain": [
       "<matplotlib.figure.Figure at 0x103ade050>"
      ]
     },
     "metadata": {},
     "output_type": "display_data"
    },
    {
     "data": {
      "image/png": "[encoded data removed]",
      "text/plain": [
       "<matplotlib.figure.Figure at 0x118c37510>"
      ]
     },
     "metadata": {},
     "output_type": "display_data"
    }
   ],
   "source": [
    "stopwords = set(STOPWORDS)\n",
    "stopwords.add(\"even\")\n",
    "stopwords.add(\"thats\")\n",
    "stopwords.add(\"lot\")\n",
    "\n",
    "wc = WordCloud(background_color=\"white\", max_words=250, mask=trump_mask,\n",
    "               stopwords=stopwords)\n",
    "\n",
    "# generate word cloud\n",
    "wc.generate(tweets)\n",
    "\n",
    "# show\n",
    "plt.figure(figsize=(15,15))\n",
    "plt.imshow(wc)\n",
    "plt.axis(\"off\")\n",
    "plt.figure(figsize=(5,5))\n",
    "plt.imshow(trump_mask, cmap=plt.cm.gray)\n",
    "plt.axis(\"off\")\n",
    "plt.show()"
   ]
  },
  {
   "cell_type": "code",
   "execution_count": 99,
   "metadata": {
    "collapsed": false
   },
   "outputs": [
    {
     "data": {
      "text/plain": [
       "<wordcloud.wordcloud.WordCloud at 0x1189ac310>"
      ]
     },
     "execution_count": 99,
     "metadata": {},
     "output_type": "execute_result"
    }
   ],
   "source": [
    "# store to file\n",
    "wc.to_file(\"trump_wc2.png\")"
   ]
  },
  {
   "cell_type": "code",
   "execution_count": null,
   "metadata": {
    "collapsed": true
   },
   "outputs": [],
   "source": []
  }
 ],
 "metadata": {
  "anaconda-cloud": {},
  "kernelspec": {
   "display_name": "Python [Root]",
   "language": "python",
   "name": "Python [Root]"
  },
  "language_info": {
   "codemirror_mode": {
    "name": "ipython",
    "version": 2
   },
   "file_extension": ".py",
   "mimetype": "text/x-python",
   "name": "python",
   "nbconvert_exporter": "python",
   "pygments_lexer": "ipython2",
   "version": "2.7.12"
  }
 },
 "nbformat": 4,
 "nbformat_minor": 0
}
