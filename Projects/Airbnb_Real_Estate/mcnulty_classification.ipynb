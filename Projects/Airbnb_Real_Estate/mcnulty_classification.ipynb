{
 "cells": [
  {
   "cell_type": "code",
   "execution_count": 1198,
   "metadata": {
    "collapsed": false
   },
   "outputs": [],
   "source": [
    "import numpy as np\n",
    "import pandas as pd\n",
    "import matplotlib.pyplot as plt\n",
    "from scipy import spatial\n",
    "from collections import defaultdict\n",
    "from sklearn.cross_validation import train_test_split, cross_val_score\n",
    "from sklearn.metrics import accuracy_score, roc_auc_score, auc, f1_score, recall_score, precision_score\n",
    "from sklearn.metrics import confusion_matrix, precision_recall_curve, roc_curve, mean_squared_error, classification_report\n",
    "from sklearn import cross_validation, datasets, grid_search, ensemble, tree, cluster, pipeline, manifold, preprocessing, feature_selection, decomposition\n",
    "from sklearn.neighbors import KNeighborsClassifier\n",
    "from sklearn.linear_model import LogisticRegression\n",
    "from sklearn.naive_bayes import GaussianNB\n",
    "from sklearn.svm import SVC\n",
    "from sklearn.tree import DecisionTreeClassifier\n",
    "from sklearn.ensemble import RandomForestClassifier, VotingClassifier\n",
    "from xgboost import XGBClassifier\n",
    "from sklearn.learning_curve import learning_curve\n",
    "from sklearn.base import BaseEstimator, TransformerMixin\n",
    "from treeinterpreter import treeinterpreter as ti\n",
    "from census import Census\n",
    "from us import states\n",
    "import warnings\n",
    "import itertools\n",
    "import pickle\n",
    "warnings.filterwarnings('ignore')\n",
    "%matplotlib inline"
   ]
  },
  {
   "cell_type": "code",
   "execution_count": 873,
   "metadata": {
    "collapsed": false
   },
   "outputs": [],
   "source": [
    "airbnb = pd.read_csv('listings.csv')"
   ]
  },
  {
   "cell_type": "code",
   "execution_count": 874,
   "metadata": {
    "collapsed": true
   },
   "outputs": [],
   "source": [
    "df_ = airbnb.dropna(axis = 0, subset = ['latitude', 'longitude'])"
   ]
  },
  {
   "cell_type": "code",
   "execution_count": 875,
   "metadata": {
    "collapsed": false
   },
   "outputs": [],
   "source": [
    "df_['coordinates'] = zip(df_['latitude'],df_['longitude'])"
   ]
  },
  {
   "cell_type": "code",
   "execution_count": 876,
   "metadata": {
    "collapsed": true
   },
   "outputs": [],
   "source": [
    "df_['coordinates'] = df_['coordinates'].apply(list)"
   ]
  },
  {
   "cell_type": "code",
   "execution_count": 877,
   "metadata": {
    "collapsed": true
   },
   "outputs": [],
   "source": [
    "with open('coord_dict.pickle', 'rb') as handle:\n",
    "    coords_dict = pickle.load(handle)"
   ]
  },
  {
   "cell_type": "code",
   "execution_count": 878,
   "metadata": {
    "collapsed": false
   },
   "outputs": [],
   "source": [
    "def to_list(dictionary):\n",
    "    for key, value in dictionary.iteritems():\n",
    "        v = list(value)\n",
    "        dictionary[key] = v\n",
    "    return dictionary"
   ]
  },
  {
   "cell_type": "code",
   "execution_count": 879,
   "metadata": {
    "collapsed": true
   },
   "outputs": [],
   "source": [
    "coords_dict_2 = to_list(coords_dict)"
   ]
  },
  {
   "cell_type": "code",
   "execution_count": 880,
   "metadata": {
    "collapsed": true
   },
   "outputs": [],
   "source": [
    "x_coord = coords_dict_2.values()\n",
    "y_coord = coords_dict_2.keys()\n",
    "lat_long = list(df_['coordinates'])"
   ]
  },
  {
   "cell_type": "code",
   "execution_count": 881,
   "metadata": {
    "collapsed": true
   },
   "outputs": [],
   "source": [
    "def nearest(X_train, y_train, X_test):\n",
    "    tree = spatial.KDTree(np.array(X_train))\n",
    "    (distances,indexes) = tree.query(X_test)\n",
    "    for i,d in zip(indexes,distances):\n",
    "        #yield y_train[i] + ' is {} parsecs away'.format(d)\n",
    "        yield y_train[i]"
   ]
  },
  {
   "cell_type": "code",
   "execution_count": 882,
   "metadata": {
    "collapsed": true
   },
   "outputs": [],
   "source": [
    "results =[]\n",
    "for result in nearest(x_coord, y_coord, lat_long):\n",
    "    results.append(result)"
   ]
  },
  {
   "cell_type": "code",
   "execution_count": 883,
   "metadata": {
    "collapsed": true
   },
   "outputs": [],
   "source": [
    "df_['GEOID'] = results"
   ]
  },
  {
   "cell_type": "code",
   "execution_count": 884,
   "metadata": {
    "collapsed": false
   },
   "outputs": [],
   "source": [
    "df_['dailyrate'] = df_['price'].replace('[\\$,]','',regex=True).astype(float)"
   ]
  },
  {
   "cell_type": "code",
   "execution_count": 885,
   "metadata": {
    "collapsed": false
   },
   "outputs": [],
   "source": [
    "df_a = pd.pivot_table(df_, index='GEOID', values=['number_of_reviews', 'accommodates', 'bathrooms', 'review_scores_location',\n",
    "                                                  'bedrooms', 'beds', 'dailyrate', 'review_scores_rating'],\n",
    "                     aggfunc=[np.mean,len])"
   ]
  },
  {
   "cell_type": "code",
   "execution_count": 886,
   "metadata": {
    "collapsed": false
   },
   "outputs": [],
   "source": [
    "df_b = df_a['mean']\n",
    "df_c = df_a['len']"
   ]
  },
  {
   "cell_type": "code",
   "execution_count": 887,
   "metadata": {
    "collapsed": false
   },
   "outputs": [],
   "source": [
    "df_b['airbnb_listings'] = df_c['dailyrate']"
   ]
  },
  {
   "cell_type": "code",
   "execution_count": 888,
   "metadata": {
    "collapsed": false
   },
   "outputs": [],
   "source": [
    "df_b = df_b.reset_index()"
   ]
  },
  {
   "cell_type": "code",
   "execution_count": 902,
   "metadata": {
    "collapsed": false
   },
   "outputs": [],
   "source": [
    "county = ['5', '47', '61', '81', '85']\n",
    "county_s = []\n",
    "for c in county:\n",
    "    county_s.append('state:{} county: %s' % c)\n",
    "t = []\n",
    "t10 = []"
   ]
  },
  {
   "cell_type": "code",
   "execution_count": 903,
   "metadata": {
    "collapsed": true
   },
   "outputs": [],
   "source": [
    "c = Census(\"564d24cd9cc31d5fc6f7438d4cb5d9537d739c26\")\n",
    "#c = Census(\"262544deef0a6384fe452d5d2173d31aa6a3279c\", year=2013)"
   ]
  },
  {
   "cell_type": "code",
   "execution_count": 904,
   "metadata": {
    "collapsed": false
   },
   "outputs": [],
   "source": [
    "for i in county_s:\n",
    "    r = c.acs5.get(('NAME', 'B01001_001E', 'B01001_002E', 'B01001A_001E', 'B01002_001E', 'B08131_001E',\n",
    "                 'B19013_001E', 'B25001_001E', 'B25002_002E', 'B25003_002E', 'B25003_003E', 'B25107_001E', \n",
    "                 'B25111_001E', 'B09001_001E', 'B11001_001E', 'B25088_002E', 'B25088_003E', 'B17001_002E', \n",
    "                 'B06009_001E', 'B06009_002E', 'B06009_003E', 'B06009_004E', 'B06009_005E', 'B06009_006E', \n",
    "                 'B25004_001E', 'B25057_001E', 'B25058_001E', 'B25059_001E', 'B08134_001E', 'B25092_002E', \n",
    "                 'B25103_002E'), geo={'for': 'tract:*',\n",
    "                       'in': i.format(states.NY.fips)})\n",
    "    t.append(r)"
   ]
  },
  {
   "cell_type": "code",
   "execution_count": 905,
   "metadata": {
    "collapsed": true
   },
   "outputs": [],
   "source": [
    "c10 = Census(\"262544deef0a6384fe452d5d2173d31aa6a3279c\", year=2011)"
   ]
  },
  {
   "cell_type": "code",
   "execution_count": 907,
   "metadata": {
    "collapsed": false
   },
   "outputs": [],
   "source": [
    "for i in county_s:\n",
    "    s = c10.acs5.get(('NAME', 'B01001_001E', 'B01001_002E', 'B01001A_001E', 'B01002_001E', 'B08131_001E',\n",
    "                 'B19013_001E', 'B25001_001E', 'B25002_002E', 'B25003_002E', 'B25003_003E', 'B25107_001E', \n",
    "                 'B25111_001E', 'B09001_001E', 'B11001_001E', 'B25088_002E', 'B25088_003E', 'B17001_002E', \n",
    "                 'B06009_001E', 'B06009_002E', 'B06009_003E', 'B06009_004E', 'B06009_005E', 'B06009_006E', \n",
    "                 'B25004_001E', 'B25057_001E', 'B25058_001E', 'B25059_001E', 'B25092_002E', \n",
    "                 'B25103_002E'), geo={'for': 'tract:*',\n",
    "                       'in': i.format(states.NY.fips)}, year=2011)\n",
    "    t10.append(s)"
   ]
  },
  {
   "cell_type": "code",
   "execution_count": 908,
   "metadata": {
    "collapsed": false
   },
   "outputs": [],
   "source": [
    "#test = c.acs5.get(('NAME', 'B25088_001E', 'B25087_002E', 'B25088_003E'), geo={'for': 'tract:*',\n",
    "#                       'in': 'state:{} county:5'.format(states.NY.fips)})"
   ]
  },
  {
   "cell_type": "code",
   "execution_count": 909,
   "metadata": {
    "collapsed": false
   },
   "outputs": [],
   "source": [
    "d = defaultdict(list)\n",
    "for x in t:\n",
    "    for i in range(len(x)):\n",
    "        d['housing_units'].append(x[i]['B25001_001E'])\n",
    "        d['housing_occupied'].append(x[i]['B25002_002E'])\n",
    "        d['housing_owner_occupied'].append(x[i]['B25003_002E'])\n",
    "        d['housing_renter_occupied'].append(x[i]['B25003_003E'])\n",
    "        d['housing_median_value'].append(x[i]['B25107_001E'])\n",
    "        d['gross_rent_median'].append(x[i]['B25111_001E'])\n",
    "        d['contract_rent_50q'].append(x[i]['B25058_001E'])\n",
    "        d['contract_rent_25q'].append(x[i]['B25057_001E'])\n",
    "        d['contract_rent_75q'].append(x[i]['B25059_001E'])\n",
    "        d['vacancy'].append(x[i]['B25004_001E'])\n",
    "        d['population_under18'].append(x[i]['B09001_001E'])        \n",
    "        d['households'].append(x[i]['B11001_001E'])\n",
    "        d['population'].append(x[i]['B01001_001E'])\n",
    "        d['housingcost_w_mortgage'].append(x[i]['B25088_002E'])\n",
    "        d['housingcost_wo_mortgage'].append(x[i]['B25088_003E'])\n",
    "        d['mort_cost_%_of_income'].append(x[i]['B25092_002E'])\n",
    "        d['rs_tax_median_w_mort'].append(x[i]['B25103_002E'])\n",
    "        d['poverty'].append(x[i]['B17001_002E'])\n",
    "        d['pop_over25_edu'].append(x[i]['B06009_001E'])\n",
    "        d['pop_over25_edu_less_HS'].append(x[i]['B06009_002E'])\n",
    "        d['pop_over25_edu_HS'].append(x[i]['B06009_003E'])\n",
    "        d['pop_over25_edu_coll'].append(x[i]['B06009_004E'])\n",
    "        d['pop_over25_edu_bach'].append(x[i]['B06009_005E'])\n",
    "        d['pop_over25_edu_grad'].append(x[i]['B06009_006E'])\n",
    "        d['male'].append(x[i]['B01001_002E'])\n",
    "        d['white'].append(x[i]['B01001A_001E'])\n",
    "        d['age_median'].append(x[i]['B01002_001E'])\n",
    "        d['agg_travel_time'].append(x[i]['B08131_001E'])\n",
    "        d['pop_over16_work'].append(x[i]['B08134_001E'])\n",
    "        d['household_income_median'].append(x[i]['B19013_001E'])\n",
    "        d['county'].append(x[i]['county'])\n",
    "        d['tract'].append(x[i]['tract'])"
   ]
  },
  {
   "cell_type": "code",
   "execution_count": 910,
   "metadata": {
    "collapsed": true
   },
   "outputs": [],
   "source": [
    "for x in t10:\n",
    "    for i in range(len(x)):\n",
    "        d['housing_units_2011'].append(x[i]['B25001_001E'])\n",
    "        d['housing_median_value_2011'].append(x[i]['B25107_001E'])\n",
    "        d['gross_rent_median_2011'].append(x[i]['B25111_001E'])\n",
    "        d['population_2011'].append(x[i]['B01001_001E'])\n",
    "        d['housingcost_w_mort_2011'].append(x[i]['B25088_002E'])\n",
    "        d['housingcost_wo_mort_2011'].append(x[i]['B25088_003E'])\n",
    "        d['mort_cost_%_of_income_2011'].append(x[i]['B25092_002E'])\n",
    "        d['poverty_2011'].append(x[i]['B17001_002E'])\n",
    "        d['agg_travel_time_2011'].append(x[i]['B08131_001E'])\n",
    "        d['household_income_median_2011'].append(x[i]['B19013_001E'])"
   ]
  },
  {
   "cell_type": "code",
   "execution_count": 911,
   "metadata": {
    "collapsed": false
   },
   "outputs": [],
   "source": [
    "cen = pd.DataFrame(d)"
   ]
  },
  {
   "cell_type": "code",
   "execution_count": 912,
   "metadata": {
    "collapsed": false
   },
   "outputs": [],
   "source": [
    "cen['geo_header'] = str(36)"
   ]
  },
  {
   "cell_type": "code",
   "execution_count": 913,
   "metadata": {
    "collapsed": false
   },
   "outputs": [],
   "source": [
    "cen['geoid'] = cen.geo_header + cen.county + cen.tract"
   ]
  },
  {
   "cell_type": "code",
   "execution_count": 914,
   "metadata": {
    "collapsed": false
   },
   "outputs": [],
   "source": [
    "cen['GEOID'] = cen['geoid'].map(int)"
   ]
  },
  {
   "cell_type": "code",
   "execution_count": 915,
   "metadata": {
    "collapsed": true
   },
   "outputs": [],
   "source": [
    "cen.drop('geoid', axis=1, inplace=True)"
   ]
  },
  {
   "cell_type": "code",
   "execution_count": 916,
   "metadata": {
    "collapsed": true
   },
   "outputs": [],
   "source": [
    "tract = pd.read_csv('tract_centroids.txt')"
   ]
  },
  {
   "cell_type": "code",
   "execution_count": 917,
   "metadata": {
    "collapsed": false
   },
   "outputs": [
    {
     "data": {
      "text/plain": [
       "array([ 5, 47, 61, 81, 85])"
      ]
     },
     "execution_count": 917,
     "metadata": {},
     "output_type": "execute_result"
    }
   ],
   "source": [
    "tract.COUNTY.unique()"
   ]
  },
  {
   "cell_type": "code",
   "execution_count": 918,
   "metadata": {
    "collapsed": false
   },
   "outputs": [],
   "source": [
    "tract.drop(['Unnamed: 0', 'STATE', 'TRACT'], axis=1, inplace=True)"
   ]
  },
  {
   "cell_type": "code",
   "execution_count": 919,
   "metadata": {
    "collapsed": false
   },
   "outputs": [],
   "source": [
    "dft = pd.merge(tract, cen, how='left', on='GEOID')"
   ]
  },
  {
   "cell_type": "code",
   "execution_count": 920,
   "metadata": {
    "collapsed": false
   },
   "outputs": [],
   "source": [
    "df = pd.merge(dft, df_b, how='left', on='GEOID')"
   ]
  },
  {
   "cell_type": "code",
   "execution_count": 921,
   "metadata": {
    "collapsed": false
   },
   "outputs": [],
   "source": [
    "df['mean_travel_time'] = df['agg_travel_time'].astype(float) / df['pop_over16_work'].astype(float)"
   ]
  },
  {
   "cell_type": "code",
   "execution_count": 922,
   "metadata": {
    "collapsed": false
   },
   "outputs": [],
   "source": [
    "df['airbnb_monthly_equal'] = df['dailyrate']*30.5"
   ]
  },
  {
   "cell_type": "code",
   "execution_count": 923,
   "metadata": {
    "collapsed": false
   },
   "outputs": [],
   "source": [
    "df['airbnb_rent_mult'] = df['airbnb_monthly_equal'] / df['gross_rent_median'].astype(float)"
   ]
  },
  {
   "cell_type": "code",
   "execution_count": 924,
   "metadata": {
    "collapsed": false
   },
   "outputs": [],
   "source": [
    "df['make_rent_median'] = df['gross_rent_median'].astype(float) / df['dailyrate']"
   ]
  },
  {
   "cell_type": "code",
   "execution_count": 925,
   "metadata": {
    "collapsed": false
   },
   "outputs": [],
   "source": [
    "df['make_rent_75q'] = df['contract_rent_75q'].astype(float) / df['dailyrate']"
   ]
  },
  {
   "cell_type": "code",
   "execution_count": 926,
   "metadata": {
    "collapsed": false
   },
   "outputs": [],
   "source": [
    "df['%_occupied'] = (df['housing_occupied'].astype(float) / df['housing_units'].astype(float)) * 100"
   ]
  },
  {
   "cell_type": "code",
   "execution_count": 927,
   "metadata": {
    "collapsed": false
   },
   "outputs": [],
   "source": [
    "df['airbnb_trans'] = df[('airbnb_listings')].fillna(0).astype(int)"
   ]
  },
  {
   "cell_type": "code",
   "execution_count": 928,
   "metadata": {
    "collapsed": false
   },
   "outputs": [],
   "source": [
    "df['%_non-whites'] = ((df['population'].astype(float) - df['white'].astype(float)) / df['population'].astype(float))*100"
   ]
  },
  {
   "cell_type": "code",
   "execution_count": 929,
   "metadata": {
    "collapsed": false
   },
   "outputs": [],
   "source": [
    "df['%_vacancy'] = (df['vacancy'].astype(float) / df['housing_units'].astype(float))*100"
   ]
  },
  {
   "cell_type": "code",
   "execution_count": 930,
   "metadata": {
    "collapsed": false
   },
   "outputs": [],
   "source": [
    "df['%_poverty'] = (df['poverty'].astype(float) / df['population'].astype(float))*100"
   ]
  },
  {
   "cell_type": "code",
   "execution_count": 931,
   "metadata": {
    "collapsed": false
   },
   "outputs": [],
   "source": [
    "df['airbnb_housing_density'] = (df['airbnb_trans'] / df['housing_units'].astype(float)) *100"
   ]
  },
  {
   "cell_type": "code",
   "execution_count": 932,
   "metadata": {
    "collapsed": true
   },
   "outputs": [],
   "source": [
    "df['airbnb_rental_density'] = (df['airbnb_trans'] / df['housing_renter_occupied'].astype(float))*100"
   ]
  },
  {
   "cell_type": "code",
   "execution_count": 933,
   "metadata": {
    "collapsed": false
   },
   "outputs": [],
   "source": [
    "df['cap_rate'] = ((df['gross_rent_median'].astype(float)*12) / df['housing_median_value'].astype(float))*100"
   ]
  },
  {
   "cell_type": "code",
   "execution_count": 934,
   "metadata": {
    "collapsed": false
   },
   "outputs": [],
   "source": [
    "df['airbnb_cap_rate'] = (df['airbnb_monthly_equal']*12 / df['housing_median_value'].astype(float))*100"
   ]
  },
  {
   "cell_type": "code",
   "execution_count": 935,
   "metadata": {
    "collapsed": false
   },
   "outputs": [],
   "source": [
    "df['housing_affordability'] = (df['household_income_median'].astype(float) \n",
    "                               / (df['housingcost_w_mortgage'].astype(float) * 4 * 12)) * 100"
   ]
  },
  {
   "cell_type": "code",
   "execution_count": 936,
   "metadata": {
    "collapsed": false
   },
   "outputs": [],
   "source": [
    "df['%_hs_or_above'] = ((df['pop_over25_edu'].astype(float) - df['pop_over25_edu_less_HS'].astype(float)) / df['pop_over25_edu'].astype(float)) * 100"
   ]
  },
  {
   "cell_type": "code",
   "execution_count": 937,
   "metadata": {
    "collapsed": true
   },
   "outputs": [],
   "source": [
    "df['%_bach_or_above'] = ((df['pop_over25_edu_bach'].astype(float) + df['pop_over25_edu_grad'].astype(float)) / df['pop_over25_edu'].astype(float)) * 100"
   ]
  },
  {
   "cell_type": "code",
   "execution_count": 938,
   "metadata": {
    "collapsed": true
   },
   "outputs": [],
   "source": [
    "df['ppl_per_household'] = df['population'].astype(float) / df['households'].astype(float)"
   ]
  },
  {
   "cell_type": "code",
   "execution_count": 939,
   "metadata": {
    "collapsed": true
   },
   "outputs": [],
   "source": [
    "df['%_male'] = (df['male'].astype(float) / df['population'].astype(float)) * 100"
   ]
  },
  {
   "cell_type": "code",
   "execution_count": 940,
   "metadata": {
    "collapsed": false
   },
   "outputs": [],
   "source": [
    "df['chg_gross_rent_median'] = df['gross_rent_median'].astype(float) - df['gross_rent_median_2011'].astype(float)"
   ]
  },
  {
   "cell_type": "code",
   "execution_count": 941,
   "metadata": {
    "collapsed": false
   },
   "outputs": [],
   "source": [
    "df['chg_household_income_median'] = df['household_income_median'].astype(float) - df['household_income_median_2011'].astype(float)"
   ]
  },
  {
   "cell_type": "code",
   "execution_count": 942,
   "metadata": {
    "collapsed": false
   },
   "outputs": [],
   "source": [
    "df['chg_housing_units'] = df['housing_units'].astype(float) - df['housing_units_2011'].astype(float)"
   ]
  },
  {
   "cell_type": "code",
   "execution_count": 943,
   "metadata": {
    "collapsed": true
   },
   "outputs": [],
   "source": [
    "df['chg_population'] = df['population'].astype(float) - df['population_2011'].astype(float)"
   ]
  },
  {
   "cell_type": "code",
   "execution_count": 944,
   "metadata": {
    "collapsed": false
   },
   "outputs": [],
   "source": [
    "df['chg_housing_value_median'] = df['housing_median_value'].astype(float) - df['housing_median_value_2011'].astype(float)"
   ]
  },
  {
   "cell_type": "code",
   "execution_count": 945,
   "metadata": {
    "collapsed": false
   },
   "outputs": [],
   "source": [
    "df['chg_mort_cost'] = df['housingcost_w_mortgage'].astype(float) - df['housingcost_w_mort_2011'].astype(float)"
   ]
  },
  {
   "cell_type": "code",
   "execution_count": 946,
   "metadata": {
    "collapsed": true
   },
   "outputs": [],
   "source": [
    "df['chg_mort_cost_%_of_income'] = df['mort_cost_%_of_income'].astype(float) - df['mort_cost_%_of_income_2011'].astype(float)"
   ]
  },
  {
   "cell_type": "code",
   "execution_count": 947,
   "metadata": {
    "collapsed": false
   },
   "outputs": [],
   "source": [
    "df['%_poverty_2011'] = (df['poverty_2011'].astype(float) / df['population_2011'].astype(float))*100"
   ]
  },
  {
   "cell_type": "code",
   "execution_count": 948,
   "metadata": {
    "collapsed": true
   },
   "outputs": [],
   "source": [
    "df['chg_%_poverty'] = df['%_poverty'] - df['%_poverty_2011']"
   ]
  },
  {
   "cell_type": "code",
   "execution_count": 949,
   "metadata": {
    "collapsed": true
   },
   "outputs": [],
   "source": [
    "df['cap_rate_differential'] = df['airbnb_cap_rate'].astype(float) - df['cap_rate'].astype(float)"
   ]
  },
  {
   "cell_type": "code",
   "execution_count": 950,
   "metadata": {
    "collapsed": true
   },
   "outputs": [],
   "source": [
    "coffee = pd.read_csv('yelp_coffee.csv')"
   ]
  },
  {
   "cell_type": "code",
   "execution_count": 951,
   "metadata": {
    "collapsed": false
   },
   "outputs": [],
   "source": [
    "dfc = coffee.dropna(axis = 0, subset = ['latitude', 'longitude'])"
   ]
  },
  {
   "cell_type": "code",
   "execution_count": 952,
   "metadata": {
    "collapsed": false
   },
   "outputs": [],
   "source": [
    "dfc['coordinates'] = zip(dfc['latitude'],dfc['longitude'])"
   ]
  },
  {
   "cell_type": "code",
   "execution_count": 953,
   "metadata": {
    "collapsed": false
   },
   "outputs": [],
   "source": [
    "dfc['coordinates'] = dfc['coordinates'].apply(list)"
   ]
  },
  {
   "cell_type": "code",
   "execution_count": 954,
   "metadata": {
    "collapsed": true
   },
   "outputs": [],
   "source": [
    "lat_long_c = list(dfc['coordinates'])"
   ]
  },
  {
   "cell_type": "code",
   "execution_count": 955,
   "metadata": {
    "collapsed": false
   },
   "outputs": [],
   "source": [
    "results_c =[]\n",
    "for result in nearest(x_coord, y_coord, lat_long_c):\n",
    "    results_c.append(result)"
   ]
  },
  {
   "cell_type": "code",
   "execution_count": 956,
   "metadata": {
    "collapsed": false
   },
   "outputs": [],
   "source": [
    "dfc['GEOID'] = results_c"
   ]
  },
  {
   "cell_type": "code",
   "execution_count": 957,
   "metadata": {
    "collapsed": false
   },
   "outputs": [],
   "source": [
    "dfcc = pd.pivot_table(dfc, index='GEOID', values=['id'],\n",
    "                     aggfunc=[len])"
   ]
  },
  {
   "cell_type": "code",
   "execution_count": 958,
   "metadata": {
    "collapsed": false
   },
   "outputs": [],
   "source": [
    "dfcc = dfcc['len'].reset_index()"
   ]
  },
  {
   "cell_type": "code",
   "execution_count": 959,
   "metadata": {
    "collapsed": false
   },
   "outputs": [],
   "source": [
    "dfcc['coffee_count'] = dfcc['id']"
   ]
  },
  {
   "cell_type": "code",
   "execution_count": 961,
   "metadata": {
    "collapsed": false
   },
   "outputs": [],
   "source": [
    "df= pd.merge(df, dfcc, how='left', on='GEOID')"
   ]
  },
  {
   "cell_type": "code",
   "execution_count": 962,
   "metadata": {
    "collapsed": false
   },
   "outputs": [],
   "source": [
    "df.coffee_count.fillna(0, inplace=True)"
   ]
  },
  {
   "cell_type": "code",
   "execution_count": 963,
   "metadata": {
    "collapsed": false
   },
   "outputs": [],
   "source": [
    "green = pd.read_csv('green_taxi.csv')\n",
    "noise = pd.read_csv('noisecomplaint_data.csv')\n",
    "uber = pd.read_csv('uber_data.csv')\n",
    "bar = pd.read_csv('yelp_bars.csv')"
   ]
  },
  {
   "cell_type": "code",
   "execution_count": 964,
   "metadata": {
    "collapsed": false
   },
   "outputs": [],
   "source": [
    "green['green_rides'] = green['ride']\n",
    "green['GEOID'] = green['census_tract']"
   ]
  },
  {
   "cell_type": "code",
   "execution_count": 965,
   "metadata": {
    "collapsed": false
   },
   "outputs": [],
   "source": [
    "green.drop(['Unnamed: 0', 'ride', 'census_tract','day_of_week','Pickup_longitude', 'Pickup_latitude','Passenger_count','Trip_distance','Total_amount','year'], axis=1, inplace=True)"
   ]
  },
  {
   "cell_type": "code",
   "execution_count": 966,
   "metadata": {
    "collapsed": false
   },
   "outputs": [],
   "source": [
    "noise['noise_count'] = noise['count']\n",
    "noise['GEOID'] = noise['census_tract']"
   ]
  },
  {
   "cell_type": "code",
   "execution_count": 967,
   "metadata": {
    "collapsed": false
   },
   "outputs": [],
   "source": [
    "noise.drop(['Unnamed: 0', 'count', 'census_tract'], axis=1, inplace=True)"
   ]
  },
  {
   "cell_type": "code",
   "execution_count": 968,
   "metadata": {
    "collapsed": false
   },
   "outputs": [],
   "source": [
    "uber['uber_rides'] = uber['rides']\n",
    "uber['GEOID'] = uber['census_tract']"
   ]
  },
  {
   "cell_type": "code",
   "execution_count": 969,
   "metadata": {
    "collapsed": false
   },
   "outputs": [],
   "source": [
    "uber.drop(['Unnamed: 0', 'rides', 'census_tract'], axis=1, inplace=True)"
   ]
  },
  {
   "cell_type": "code",
   "execution_count": 970,
   "metadata": {
    "collapsed": false
   },
   "outputs": [],
   "source": [
    "bar['bar_count'] = bar['count']\n",
    "bar['GEOID'] = bar['census_tract']"
   ]
  },
  {
   "cell_type": "code",
   "execution_count": 971,
   "metadata": {
    "collapsed": false
   },
   "outputs": [],
   "source": [
    "bar.drop(['Unnamed: 0', 'count', 'census_tract'], axis=1, inplace=True)"
   ]
  },
  {
   "cell_type": "code",
   "execution_count": 972,
   "metadata": {
    "collapsed": false
   },
   "outputs": [],
   "source": [
    "df= pd.merge(df, green, how='left', on='GEOID')\n",
    "df= pd.merge(df, noise, how='left', on='GEOID')\n",
    "df= pd.merge(df, uber, how='left', on='GEOID')\n",
    "df= pd.merge(df, bar, how='left', on='GEOID')"
   ]
  },
  {
   "cell_type": "code",
   "execution_count": 973,
   "metadata": {
    "collapsed": false
   },
   "outputs": [],
   "source": [
    "df.green_rides.fillna(0, inplace=True)\n",
    "df.noise_count.fillna(0, inplace=True)\n",
    "df.uber_rides.fillna(0, inplace=True)\n",
    "df.bar_count.fillna(0, inplace=True)"
   ]
  },
  {
   "cell_type": "code",
   "execution_count": 1020,
   "metadata": {
    "collapsed": true
   },
   "outputs": [],
   "source": [
    "yellow = pd.read_csv('yellow_taxi_total.csv')"
   ]
  },
  {
   "cell_type": "code",
   "execution_count": 1022,
   "metadata": {
    "collapsed": false
   },
   "outputs": [],
   "source": [
    "yellow['yellow_rides'] = yellow['rides']\n",
    "yellow['GEOID'] = yellow['census_tract']"
   ]
  },
  {
   "cell_type": "code",
   "execution_count": 1023,
   "metadata": {
    "collapsed": true
   },
   "outputs": [],
   "source": [
    "yellow.drop(['Unnamed: 0', 'rides', 'census_tract'], axis=1, inplace=True)"
   ]
  },
  {
   "cell_type": "code",
   "execution_count": 1024,
   "metadata": {
    "collapsed": true
   },
   "outputs": [],
   "source": [
    "df= pd.merge(df, yellow, how='left', on='GEOID')"
   ]
  },
  {
   "cell_type": "code",
   "execution_count": 1063,
   "metadata": {
    "collapsed": false
   },
   "outputs": [],
   "source": [
    "df.to_csv('mcnulty.csv')"
   ]
  },
  {
   "cell_type": "code",
   "execution_count": 976,
   "metadata": {
    "collapsed": false
   },
   "outputs": [
    {
     "data": {
      "text/plain": [
       "'def ratings(x):\\n    if x <5:\\n        return 1\\n    elif x < 7:\\n        return 2\\n    elif x < 9:\\n        return 3\\n    elif x < 12:\\n        return 4\\n    else:\\n        return 5'"
      ]
     },
     "execution_count": 976,
     "metadata": {},
     "output_type": "execute_result"
    }
   ],
   "source": [
    "\"\"\"def ratings(x):\n",
    "    if x <5:\n",
    "        return 1\n",
    "    elif x < 7:\n",
    "        return 2\n",
    "    elif x < 9:\n",
    "        return 3\n",
    "    elif x < 12:\n",
    "        return 4\n",
    "    else:\n",
    "        return 5\"\"\""
   ]
  },
  {
   "cell_type": "code",
   "execution_count": 977,
   "metadata": {
    "collapsed": true
   },
   "outputs": [],
   "source": [
    "def ratings(x):\n",
    "    if x <6:\n",
    "        return 1\n",
    "    elif x < 10:\n",
    "        return 2\n",
    "    else:\n",
    "        return 3 "
   ]
  },
  {
   "cell_type": "code",
   "execution_count": 1041,
   "metadata": {
    "collapsed": true
   },
   "outputs": [],
   "source": [
    "df_m = df.dropna(axis = 0, subset = ['airbnb_cap_rate'])"
   ]
  },
  {
   "cell_type": "code",
   "execution_count": 1042,
   "metadata": {
    "collapsed": false
   },
   "outputs": [],
   "source": [
    "X = df_m.loc[:,('airbnb_trans', 'gross_rent_median', 'household_income_median', 'population', 'mean_travel_time',\n",
    "           '%_occupied', '%_non-whites', '%_vacancy', '%_poverty', 'airbnb_housing_density', 'airbnb_rental_density',\n",
    "            'housing_affordability', '%_hs_or_above', '%_bach_or_above', 'ppl_per_household', '%_male',\n",
    "             'age_median', 'rs_tax_median_w_mort', 'bathrooms', 'beds', 'number_of_reviews', 'mort_cost_%_of_income',\n",
    "            'accommodates', 'bedrooms', 'review_scores_rating', 'chg_gross_rent_median', 'chg_household_income_median',\n",
    "            'chg_housing_units', 'chg_population', 'chg_housing_value_median', 'chg_mort_cost', 'chg_mort_cost_%_of_income',\n",
    "            'chg_%_poverty', 'cap_rate', 'coffee_count', 'green_rides', 'uber_rides', 'noise_count', 'yellow_rides')]\n",
    "Y = df_m['airbnb_cap_rate'].map(ratings)"
   ]
  },
  {
   "cell_type": "code",
   "execution_count": 1043,
   "metadata": {
    "collapsed": false
   },
   "outputs": [
    {
     "data": {
      "text/plain": [
       "2    571\n",
       "1    551\n",
       "3    367\n",
       "Name: airbnb_cap_rate, dtype: int64"
      ]
     },
     "execution_count": 1043,
     "metadata": {},
     "output_type": "execute_result"
    }
   ],
   "source": [
    "Y.value_counts()"
   ]
  },
  {
   "cell_type": "code",
   "execution_count": 1044,
   "metadata": {
    "collapsed": false
   },
   "outputs": [],
   "source": [
    "X = X.astype(float)"
   ]
  },
  {
   "cell_type": "code",
   "execution_count": 1045,
   "metadata": {
    "collapsed": false
   },
   "outputs": [],
   "source": [
    "for i in X.columns:\n",
    "    fun = lambda x: X[i].mean() if pd.isnull(x) == True else x\n",
    "    X[i] = X[i].apply(fun)"
   ]
  },
  {
   "cell_type": "code",
   "execution_count": 1046,
   "metadata": {
    "collapsed": true
   },
   "outputs": [],
   "source": [
    "#SELECT * FROM mcnulty_merge\n",
    "#WHERE county IN (5, 47, 61, 81, 85)\n",
    "#and _len_beds_ > 5"
   ]
  },
  {
   "cell_type": "code",
   "execution_count": 1047,
   "metadata": {
    "collapsed": false
   },
   "outputs": [],
   "source": [
    "X_train, X_test, Y_train, Y_test = train_test_split(X, Y, test_size=.30)"
   ]
  },
  {
   "cell_type": "code",
   "execution_count": 1048,
   "metadata": {
    "collapsed": false
   },
   "outputs": [
    {
     "name": "stdout",
     "output_type": "stream",
     "text": [
      "Model: KNN\n",
      "Accuracy Score  : 0.45190156599552572\n",
      "Recall Score    : 0.45190156599552572\n",
      "Precision Score : 0.43834222191347816\n",
      "F1 Score        : 0.43616474027219704\n"
     ]
    }
   ],
   "source": [
    "neigh = KNeighborsClassifier(n_neighbors=6)\n",
    "neigh.fit(X_train,Y_train)\n",
    "Y_hat_k = neigh.predict(X_test)\n",
    "prob_k = neigh.predict_proba(X_test)\n",
    "print 'Model: KNN'\n",
    "print 'Accuracy Score  : %r' % accuracy_score(Y_test, Y_hat_k)\n",
    "print 'Recall Score    : %r' % recall_score(Y_test, Y_hat_k)\n",
    "print 'Precision Score : %r' % precision_score(Y_test, Y_hat_k)\n",
    "print 'F1 Score        : %r' % f1_score(Y_test, Y_hat_k)"
   ]
  },
  {
   "cell_type": "code",
   "execution_count": 1230,
   "metadata": {
    "collapsed": false
   },
   "outputs": [
    {
     "name": "stdout",
     "output_type": "stream",
     "text": [
      "Model: Logistic Regression\n",
      "Accuracy Score  : 0.65100671140939592\n",
      "Recall Score    : 0.65100671140939592\n",
      "Precision Score : 0.64450742868761801\n",
      "F1 Score        : 0.64565371667572002\n"
     ]
    }
   ],
   "source": [
    "model_lr = LogisticRegression(C=2, penalty='l1')\n",
    "model_lr.fit(X_train, Y_train)\n",
    "Y_hat_lr = model_lr.predict(X_test)\n",
    "prob_lr = model_lr.predict_proba(X_test)\n",
    "print 'Model: Logistic Regression'\n",
    "print 'Accuracy Score  : %r' % accuracy_score(Y_test, Y_hat_lr)\n",
    "print 'Recall Score    : %r' % recall_score(Y_test, Y_hat_lr)\n",
    "print 'Precision Score : %r' % precision_score(Y_test, Y_hat_lr)\n",
    "print 'F1 Score        : %r' % f1_score(Y_test, Y_hat_lr)"
   ]
  },
  {
   "cell_type": "code",
   "execution_count": 1050,
   "metadata": {
    "collapsed": false
   },
   "outputs": [
    {
     "name": "stdout",
     "output_type": "stream",
     "text": [
      "Model: GaussianNB\n",
      "Accuracy Score  : 0.50111856823266221\n",
      "Recall Score    : 0.50111856823266221\n",
      "Precision Score : 0.55850423237810154\n",
      "F1 Score        : 0.43700030387488925\n"
     ]
    }
   ],
   "source": [
    "gauss = GaussianNB()\n",
    "gauss.fit(X_train, Y_train)\n",
    "Y_hat_gauss = gauss.predict(X_test)\n",
    "prob_gauss = gauss.predict_proba(X_test)\n",
    "print 'Model: GaussianNB'\n",
    "print 'Accuracy Score  : %r' % accuracy_score(Y_test, Y_hat_gauss)\n",
    "print 'Recall Score    : %r' % recall_score(Y_test, Y_hat_gauss)\n",
    "print 'Precision Score : %r' % precision_score(Y_test, Y_hat_gauss)\n",
    "print 'F1 Score        : %r' % f1_score(Y_test, Y_hat_gauss)"
   ]
  },
  {
   "cell_type": "code",
   "execution_count": 1217,
   "metadata": {
    "collapsed": false
   },
   "outputs": [
    {
     "name": "stdout",
     "output_type": "stream",
     "text": [
      "Model: DTC\n",
      "Accuracy Score  : 0.38031319910514544\n",
      "Recall Score    : 0.38031319910514544\n",
      "Precision Score : 0.14463812941358997\n",
      "F1 Score        : 0.20957291360737348\n"
     ]
    }
   ],
   "source": [
    "svc = SVC()\n",
    "svc.fit(X_train, Y_train)\n",
    "Y_hat_svc = svc.predict(X_test)\n",
    "#prob_svc = svc.predict_proba(X_test)\n",
    "print 'Model: DTC'\n",
    "print 'Accuracy Score  : %r' % accuracy_score(Y_test, Y_hat_svc)\n",
    "print 'Recall Score    : %r' % recall_score(Y_test, Y_hat_svc)\n",
    "print 'Precision Score : %r' % precision_score(Y_test, Y_hat_svc)\n",
    "print 'F1 Score        : %r' % f1_score(Y_test, Y_hat_svc)"
   ]
  },
  {
   "cell_type": "code",
   "execution_count": null,
   "metadata": {
    "collapsed": true
   },
   "outputs": [],
   "source": [
    "dtc = DecisionTreeClassifier()\n",
    "dtc.fit(X_train, Y_train)\n",
    "Y_hat_dtc = dtc.predict(X_test)\n",
    "prob_dtc = dtc.predict_proba(X_test)\n",
    "print 'Model: DTC'\n",
    "print 'Accuracy Score  : %r' % accuracy_score(Y_test, Y_hat_dtc)\n",
    "print 'Recall Score    : %r' % recall_score(Y_test, Y_hat_dtc)\n",
    "print 'Precision Score : %r' % precision_score(Y_test, Y_hat_dtc)\n",
    "print 'F1 Score        : %r' % f1_score(Y_test, Y_hat_dtc)"
   ]
  },
  {
   "cell_type": "code",
   "execution_count": 1247,
   "metadata": {
    "collapsed": false
   },
   "outputs": [
    {
     "name": "stdout",
     "output_type": "stream",
     "text": [
      "Model: RFC\n",
      "Accuracy Score  : 0.65324384787472034\n",
      "Recall Score    : 0.65324384787472034\n",
      "Precision Score : 0.65419107571208135\n",
      "F1 Score        : 0.6524162711405247\n"
     ]
    }
   ],
   "source": [
    "rfc = RandomForestClassifier(max_depth=6, n_estimators=50)\n",
    "rfc.fit(X_train, Y_train)\n",
    "Y_hat_rfc = rfc.predict(X_test)\n",
    "prob_rfc = rfc.predict_proba(X_test)\n",
    "print 'Model: RFC'\n",
    "print 'Accuracy Score  : %r' % accuracy_score(Y_test, Y_hat_rfc)\n",
    "print 'Recall Score    : %r' % recall_score(Y_test, Y_hat_rfc)\n",
    "print 'Precision Score : %r' % precision_score(Y_test, Y_hat_rfc)\n",
    "print 'F1 Score        : %r' % f1_score(Y_test, Y_hat_rfc)"
   ]
  },
  {
   "cell_type": "code",
   "execution_count": 1252,
   "metadata": {
    "collapsed": false
   },
   "outputs": [
    {
     "name": "stdout",
     "output_type": "stream",
     "text": [
      "Model: DTC\n",
      "Accuracy Score  : 0.65324384787472034\n",
      "Recall Score    : 0.65324384787472034\n",
      "Precision Score : 0.66169606739073172\n",
      "F1 Score        : 0.65517243812673964\n"
     ]
    }
   ],
   "source": [
    "xg = xgboost.XGBClassifier(max_depth=3, learning_rate=0.2)\n",
    "xg.fit(X_train, Y_train)\n",
    "Y_hat_xg = xg.predict(X_test)\n",
    "prob_xg = xg.predict_proba(X_test)\n",
    "print 'Model: DTC'\n",
    "print 'Accuracy Score  : %r' % accuracy_score(Y_test, Y_hat_xg)\n",
    "print 'Recall Score    : %r' % recall_score(Y_test, Y_hat_xg)\n",
    "print 'Precision Score : %r' % precision_score(Y_test, Y_hat_xg)\n",
    "print 'F1 Score        : %r' % f1_score(Y_test, Y_hat_xg)"
   ]
  },
  {
   "cell_type": "code",
   "execution_count": 1054,
   "metadata": {
    "collapsed": false
   },
   "outputs": [
    {
     "name": "stdout",
     "output_type": "stream",
     "text": [
      "Model: XGBoost\n",
      "Accuracy Score  : 0.61822183232267258\n",
      "Recall Score    : 0.61822183232267258\n",
      "Precision Score : 0.6433884267886617\n",
      "F1 Score        : 0.61259608527954013\n"
     ]
    }
   ],
   "source": [
    "print 'Model: XGBoost'\n",
    "print 'Accuracy Score  : %r' % np.mean(cross_val_score(xg, X, Y, cv=10, scoring='accuracy'))\n",
    "print 'Recall Score    : %r' % np.mean(cross_val_score(xg, X, Y, cv=10, scoring='recall'))\n",
    "print 'Precision Score : %r' % np.mean(cross_val_score(xg, X, Y, cv=10, scoring='precision'))\n",
    "print 'F1 Score        : %r' % np.mean(cross_val_score(xg, X, Y, cv=10, scoring='f1'))"
   ]
  },
  {
   "cell_type": "code",
   "execution_count": 1076,
   "metadata": {
    "collapsed": false
   },
   "outputs": [],
   "source": [
    "fi = zip(X.columns, xg.feature_importances_)"
   ]
  },
  {
   "cell_type": "code",
   "execution_count": 1081,
   "metadata": {
    "collapsed": false
   },
   "outputs": [],
   "source": [
    "import seaborn as sns"
   ]
  },
  {
   "cell_type": "code",
   "execution_count": 1191,
   "metadata": {
    "collapsed": true
   },
   "outputs": [],
   "source": [
    "feat = pd.DataFrame(fi, columns=['features', 'contributions'])"
   ]
  },
  {
   "cell_type": "code",
   "execution_count": 1192,
   "metadata": {
    "collapsed": false
   },
   "outputs": [],
   "source": [
    "topfi = feat.sort_values(by='contributions', ascending=False)[0:10]"
   ]
  },
  {
   "cell_type": "code",
   "execution_count": 1193,
   "metadata": {
    "collapsed": true
   },
   "outputs": [],
   "source": [
    "flist = ['Capitalization Rate', 'Accommodation per home', 'Uber Rides', 'Number of AirBnB Reviews', 'Median Rent', 'No. of Bedrooms', 'Change in Housing Value', 'Change in Population', 'Median Real Estate Taxes', 'Average Review Scores']"
   ]
  },
  {
   "cell_type": "code",
   "execution_count": 1194,
   "metadata": {
    "collapsed": true
   },
   "outputs": [],
   "source": [
    "topfi['features'] = flist"
   ]
  },
  {
   "cell_type": "code",
   "execution_count": 1195,
   "metadata": {
    "collapsed": false
   },
   "outputs": [],
   "source": [
    "topfi = topfi.sort_values(by='contributions', ascending=True)"
   ]
  },
  {
   "cell_type": "code",
   "execution_count": 1196,
   "metadata": {
    "collapsed": false
   },
   "outputs": [
    {
     "data": {
      "text/plain": [
       "<matplotlib.axes._subplots.AxesSubplot at 0x1429be110>"
      ]
     },
     "execution_count": 1196,
     "metadata": {},
     "output_type": "execute_result"
    },
    {
     "data": {
      "text/plain": [
       "<matplotlib.figure.Figure at 0x141d28250>"
      ]
     },
     "metadata": {},
     "output_type": "display_data"
    },
    {
     "data": {
      "image/png": "[encoded data removed]",
      "text/plain": [
       "<matplotlib.figure.Figure at 0x142697350>"
      ]
     },
     "metadata": {},
     "output_type": "display_data"
    }
   ],
   "source": [
    "topfi.plot('features', 'contributions', kind='barh', colormap=\"PuOr\", figsize=(4,4))"
   ]
  },
  {
   "cell_type": "code",
   "execution_count": 998,
   "metadata": {
    "collapsed": true
   },
   "outputs": [],
   "source": [
    "class IdentityTransform(BaseEstimator, TransformerMixin):\n",
    "\n",
    "    def fit(self, x, y=None):\n",
    "        return self\n",
    "\n",
    "    def transform(self, X):\n",
    "        return X\n"
   ]
  },
  {
   "cell_type": "code",
   "execution_count": 1056,
   "metadata": {
    "collapsed": false
   },
   "outputs": [
    {
     "data": {
      "text/plain": [
       "0.63982102908277405"
      ]
     },
     "execution_count": 1056,
     "metadata": {},
     "output_type": "execute_result"
    }
   ],
   "source": [
    "combined_features = pipeline.FeatureUnion([('poly2',preprocessing.PolynomialFeatures(degree=2)),\n",
    "                                           ('Identity',IdentityTransform()),\n",
    "                                          ('pca', decomposition.PCA(n_components=5))])\n",
    "\n",
    "steps = [\n",
    "('features', combined_features),\n",
    "#('feature_selection', feature_selection.SelectFromModel()),\n",
    "('model',RandomForestClassifier())]\n",
    "\n",
    "pipe = pipeline.Pipeline(steps)\n",
    "pipe.fit(X_train,Y_train)\n",
    "pipe.score(X_test,Y_test)\n",
    "\n",
    "#LogisticRegression(penalty='l1')"
   ]
  },
  {
   "cell_type": "code",
   "execution_count": 1057,
   "metadata": {
    "collapsed": false
   },
   "outputs": [
    {
     "data": {
      "text/plain": [
       "0.69351230425055932"
      ]
     },
     "execution_count": 1057,
     "metadata": {},
     "output_type": "execute_result"
    }
   ],
   "source": [
    "combined_features = pipeline.FeatureUnion([('poly2',preprocessing.PolynomialFeatures(degree=2)),\n",
    "                                           ('Identity',IdentityTransform()),\n",
    "                                          ('pca', decomposition.PCA(n_components=5))])\n",
    "\n",
    "steps = [\n",
    "('features', combined_features),\n",
    "#('feature_selection', feature_selection.SelectFromModel()),\n",
    "('model',xgboost.XGBClassifier(max_depth=3, learning_rate=0.20))]\n",
    "\n",
    "pipe2 = pipeline.Pipeline(steps)\n",
    "pipe2.fit(X_train,Y_train)\n",
    "pipe2.score(X_test,Y_test)\n",
    "\n",
    "#LogisticRegression(penalty='l1')"
   ]
  },
  {
   "cell_type": "code",
   "execution_count": 1253,
   "metadata": {
    "collapsed": false
   },
   "outputs": [
    {
     "data": {
      "text/plain": [
       "0.6465324384787472"
      ]
     },
     "execution_count": 1253,
     "metadata": {},
     "output_type": "execute_result"
    }
   ],
   "source": [
    "combined_features = pipeline.FeatureUnion([('poly2',preprocessing.PolynomialFeatures(degree=2)),\n",
    "                                           ('Identity',IdentityTransform()),\n",
    "                                          ('pca', decomposition.PCA(n_components=5))])\n",
    "\n",
    "steps = [\n",
    "('features', combined_features),\n",
    "#('feature_selection', feature_selection.SelectFromModel()),\n",
    "('model',VotingClassifier(estimators=[('xg', xg), ('rfc', rfc),\n",
    "                                    ('lr', model_lr)],\n",
    "                        voting='soft', weights=[1, 1, 1]))]\n",
    " \n",
    "pipe3 = pipeline.Pipeline(steps)\n",
    "pipe3.fit(X_train,Y_train)\n",
    "pipe3.score(X_test,Y_test)"
   ]
  },
  {
   "cell_type": "code",
   "execution_count": 1208,
   "metadata": {
    "collapsed": false
   },
   "outputs": [
    {
     "name": "stdout",
     "output_type": "stream",
     "text": [
      "Model: Voting Ensemble\n",
      "Accuracy Score  : 0.68232662192393734\n",
      "Recall Score    : 0.68232662192393734\n",
      "Precision Score : 0.68902675045528861\n",
      "F1 Score        : 0.68427883001991896\n"
     ]
    }
   ],
   "source": [
    "Y_hat_voting = pipe3.predict(X_test)\n",
    "prob_voting = pipe3.predict_proba(X_test)\n",
    "print 'Model: Voting Ensemble'\n",
    "print 'Accuracy Score  : %r' % accuracy_score(Y_test, Y_hat_voting)\n",
    "print 'Recall Score    : %r' % recall_score(Y_test, Y_hat_voting)\n",
    "print 'Precision Score : %r' % precision_score(Y_test, Y_hat_voting)\n",
    "print 'F1 Score        : %r' % f1_score(Y_test, Y_hat_voting)"
   ]
  },
  {
   "cell_type": "code",
   "execution_count": 1214,
   "metadata": {
    "collapsed": true
   },
   "outputs": [],
   "source": [
    "g = classification_report(Y_test, Y_hat_voting, labels=[1,2,3])"
   ]
  },
  {
   "cell_type": "code",
   "execution_count": 1215,
   "metadata": {
    "collapsed": false
   },
   "outputs": [
    {
     "name": "stdout",
     "output_type": "stream",
     "text": [
      "\n",
      "Clasification report:\n",
      "             precision    recall  f1-score   support\n",
      "\n",
      "          1       0.78      0.73      0.76       177\n",
      "          2       0.59      0.66      0.62       170\n",
      "          3       0.70      0.63      0.66       100\n",
      "\n",
      "avg / total       0.69      0.68      0.68       447\n",
      "\n"
     ]
    }
   ],
   "source": [
    "print '\\nClasification report:\\n', g"
   ]
  },
  {
   "cell_type": "code",
   "execution_count": 1068,
   "metadata": {
    "collapsed": true
   },
   "outputs": [],
   "source": [
    "def plot_confusion_matrix(cm, classes,\n",
    "                          normalize=False,\n",
    "                          title='Confusion matrix',\n",
    "                          cmap=plt.cm.Oranges):\n",
    "    \"\"\"\n",
    "    This function prints and plots the confusion matrix.\n",
    "    Normalization can be applied by setting `normalize=True`.\n",
    "    \"\"\"\n",
    "    plt.imshow(cm, interpolation='nearest', cmap=cmap)\n",
    "    plt.title(title)\n",
    "    plt.colorbar()\n",
    "    tick_marks = np.arange(len(classes))\n",
    "    plt.xticks(tick_marks, classes)\n",
    "    plt.yticks(tick_marks, classes)\n",
    "\n",
    "    if normalize:\n",
    "        cm = cm.astype('float') / cm.sum(axis=1)[:, np.newaxis]\n",
    "        print(\"Normalized confusion matrix\")\n",
    "    else:\n",
    "        print('Confusion matrix, without normalization')\n",
    "\n",
    "    print(cm)\n",
    "\n",
    "    axis_font = {'fontname':'Arial', 'size':'16'}\n",
    "    \n",
    "    thresh = cm.max() / 2.\n",
    "    np.set_printoptions(precision=2)\n",
    "    for i, j in itertools.product(range(cm.shape[0]), range(cm.shape[1])):\n",
    "        plt.text(j, i, round(cm[i, j],2),\n",
    "                 horizontalalignment=\"center\",\n",
    "                 color=\"white\" if cm[i, j] > thresh else \"black\", **axis_font)\n",
    "\n",
    "    plt.tight_layout()\n",
    "    plt.ylabel('True label')\n",
    "    plt.xlabel('Predicted label')"
   ]
  },
  {
   "cell_type": "code",
   "execution_count": 1069,
   "metadata": {
    "collapsed": true
   },
   "outputs": [],
   "source": [
    "# Compute confusion matrix\n",
    "np.set_printoptions(precision=2)\n",
    "cnf_matrix = confusion_matrix(Y_test, Y_hat_voting, labels=[1,2,3])\n",
    "class_names=['C','B','A']"
   ]
  },
  {
   "cell_type": "code",
   "execution_count": 1254,
   "metadata": {
    "collapsed": false
   },
   "outputs": [
    {
     "name": "stdout",
     "output_type": "stream",
     "text": [
      "Confusion matrix, without normalization\n",
      "[[125  50   2]\n",
      " [ 33 115  22]\n",
      " [  4  32  64]]\n",
      "Normalized confusion matrix\n",
      "[[ 0.71  0.28  0.01]\n",
      " [ 0.19  0.68  0.13]\n",
      " [ 0.04  0.32  0.64]]\n"
     ]
    },
    {
     "data": {
      "image/png": "[encoded data removed]",
      "text/plain": [
       "<matplotlib.figure.Figure at 0x142b95f10>"
      ]
     },
     "metadata": {},
     "output_type": "display_data"
    },
    {
     "data": {
      "image/png": "[encoded data removed]",
      "text/plain": [
       "<matplotlib.figure.Figure at 0x142bb85d0>"
      ]
     },
     "metadata": {},
     "output_type": "display_data"
    }
   ],
   "source": [
    "# Plot non-normalized confusion matrix\n",
    "plt.figure(figsize=(4,4))\n",
    "plot_confusion_matrix(cnf_matrix, classes=class_names,\n",
    "                      title='Confusion matrix, without normalization')\n",
    "\n",
    "# Plot normalized confusion matrix\n",
    "plt.figure(figsize=(4,4))\n",
    "plot_confusion_matrix(cnf_matrix, classes=class_names, normalize=True,\n",
    "                      title='Normalized confusion matrix')\n",
    "\n",
    "plt.show()"
   ]
  },
  {
   "cell_type": "code",
   "execution_count": 1213,
   "metadata": {
    "collapsed": false
   },
   "outputs": [
    {
     "data": {
      "text/plain": [
       "0.7272727272727273"
      ]
     },
     "execution_count": 1213,
     "metadata": {},
     "output_type": "execute_result"
    }
   ],
   "source": [
    "64/(64+22+2.0)"
   ]
  },
  {
   "cell_type": "code",
   "execution_count": null,
   "metadata": {
    "collapsed": false
   },
   "outputs": [],
   "source": [
    "airbnb.review_scores_location.value_counts()"
   ]
  },
  {
   "cell_type": "code",
   "execution_count": 1009,
   "metadata": {
    "collapsed": false
   },
   "outputs": [
    {
     "data": {
      "text/plain": [
       "-12857.143873919675"
      ]
     },
     "execution_count": 1009,
     "metadata": {},
     "output_type": "execute_result"
    }
   ],
   "source": [
    "df.chg_housing_value_median.mean()"
   ]
  },
  {
   "cell_type": "code",
   "execution_count": 1010,
   "metadata": {
    "collapsed": false
   },
   "outputs": [
    {
     "data": {
      "text/plain": [
       "2219.131341868184"
      ]
     },
     "execution_count": 1010,
     "metadata": {},
     "output_type": "execute_result"
    }
   ],
   "source": [
    "df.chg_household_income_median.mean()"
   ]
  },
  {
   "cell_type": "code",
   "execution_count": 1011,
   "metadata": {
    "collapsed": false
   },
   "outputs": [
    {
     "data": {
      "text/plain": [
       "23.507152745731425"
      ]
     },
     "execution_count": 1011,
     "metadata": {},
     "output_type": "execute_result"
    }
   ],
   "source": [
    "df.chg_housing_units.mean()"
   ]
  },
  {
   "cell_type": "code",
   "execution_count": 1012,
   "metadata": {
    "collapsed": false
   },
   "outputs": [
    {
     "data": {
      "text/plain": [
       "104.24965389940009"
      ]
     },
     "execution_count": 1012,
     "metadata": {},
     "output_type": "execute_result"
    }
   ],
   "source": [
    "df.chg_population.mean()"
   ]
  },
  {
   "cell_type": "code",
   "execution_count": null,
   "metadata": {
    "collapsed": true
   },
   "outputs": [],
   "source": []
  }
 ],
 "metadata": {
  "anaconda-cloud": {},
  "kernelspec": {
   "display_name": "Python [Root]",
   "language": "python",
   "name": "Python [Root]"
  },
  "language_info": {
   "codemirror_mode": {
    "name": "ipython",
    "version": 2
   },
   "file_extension": ".py",
   "mimetype": "text/x-python",
   "name": "python",
   "nbconvert_exporter": "python",
   "pygments_lexer": "ipython2",
   "version": "2.7.12"
  }
 },
 "nbformat": 4,
 "nbformat_minor": 0
}
